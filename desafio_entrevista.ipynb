{
 "cells": [
  {
   "cell_type": "markdown",
   "source": [
    "# Desafio"
   ],
   "metadata": {
    "collapsed": false,
    "pycharm": {
     "name": "#%% md\n"
    }
   }
  },
  {
   "cell_type": "markdown",
   "source": [
    "## 1. Contextualização\n",
    "\n",
    "Este projeto é parte da segunda fase de um processo seletivo da empresa X. Recebemos o conjunto de dados e somente as seguintes informações:\n",
    "\n",
    "\"-- 2ª Etapa de entrevista para vaga - Cientista de dados Jr.\n",
    "\n",
    "Olá! Se você está lendo esta mensagem é porque te escolhemos para avançar em nosso processo seletivo! Parabéns =D\n",
    "O intuito agora é verificar se você possuí a capacidade de execução, e para isso temos uma lista de desafios que deve ser entregue em Python.\n",
    "Lembrando, você fará a apresentação do seu projeto em nossa próxima conversa, estamos ansiosos por isso. Rs\n",
    "Utilize o arquivo \"DF Cientista de dados Jr\" como base de dados para seu projeto.\n",
    "Confira os desafios logo a baixo, boa sorte!😉\n",
    "\n",
    "-- Desafios\n",
    "- ETL\n",
    "- Engenharia de variávies\n",
    "- Gráficos / Visualização\n",
    "- Correlações\n",
    "- Modelo para Classidicação - Variável target: Fumante\n",
    "- Tunagem de modelo\n",
    "\n",
    "**Caso queira fazer um webapp fique à vontade.\"\n",
    "\n",
    "## 2. Tratamento dos dados, suposições e hipóteses\n",
    "\n",
    "### 2.1 Importando bibliotecas\n",
    "\n",
    "\n",
    "Primeiramente, vamos importar algumas bibliotecas que vamos usar:"
   ],
   "metadata": {
    "collapsed": false,
    "pycharm": {
     "name": "#%% md\n"
    }
   }
  },
  {
   "cell_type": "code",
   "execution_count": 1,
   "outputs": [],
   "source": [
    "#importing used libraries\n",
    "import pandas as pd #Data manipulation\n",
    "import numpy as np #Linear algebra\n",
    "import matplotlib.pylab as plt #Plot\n",
    "import seaborn as sns #Understanding variables"
   ],
   "metadata": {
    "collapsed": false,
    "pycharm": {
     "name": "#%%\n"
    }
   }
  },
  {
   "cell_type": "markdown",
   "source": [
    "### 2.2 Extraindo o conjunto de dados do desafio\n",
    "\n",
    "Vamos então importar o conjunto de dados (dataset) do desafio como um DataFrame da biblioteca Pandas e o chamarei de df_old, pois possivelmente deverão ser feitas algumas modificações.\n",
    "Em seguida, analiso a quantidade de linhas e colunas do DataFrame, para termos uma ideia de sua dimensão e com o comando .head() podemos analisar as 5 primeiras linhas do DataFrame."
   ],
   "metadata": {
    "collapsed": false,
    "pycharm": {
     "name": "#%% md\n"
    }
   }
  },
  {
   "cell_type": "code",
   "source": [
    "df_old = pd.read_csv('DF Cientista de dados Jr.csv')\n",
    "print('Número de linhas:' , df_old.shape[0])\n",
    "print('Número de colunas:' , df_old.shape[1])\n",
    "print(df_old.columns)\n",
    "df_old.head()"
   ],
   "metadata": {
    "collapsed": false,
    "pycharm": {
     "name": "#%%\n"
    }
   },
   "execution_count": 2,
   "outputs": [
    {
     "name": "stdout",
     "output_type": "stream",
     "text": [
      "Número de linhas: 1338\n",
      "Número de colunas: 7\n",
      "Index(['Idade', 'Sexo', 'IMC', 'Filhos', 'Fumante', 'Regiao', 'Custos'], dtype='object')\n"
     ]
    },
    {
     "data": {
      "text/plain": "   Idade    Sexo     IMC  Filhos Fumante     Regiao       Custos\n0     19  female  27.900       0     yes  southwest  16884.92400\n1     18    male  33.770       1      no  southeast   1725.55230\n2     28    male  33.000       3      no  southeast   4449.46200\n3     33    male  22.705       0      no  northwest  21984.47061\n4     32    male  28.880       0      no  northwest   3866.85520",
      "text/html": "<div>\n<style scoped>\n    .dataframe tbody tr th:only-of-type {\n        vertical-align: middle;\n    }\n\n    .dataframe tbody tr th {\n        vertical-align: top;\n    }\n\n    .dataframe thead th {\n        text-align: right;\n    }\n</style>\n<table border=\"1\" class=\"dataframe\">\n  <thead>\n    <tr style=\"text-align: right;\">\n      <th></th>\n      <th>Idade</th>\n      <th>Sexo</th>\n      <th>IMC</th>\n      <th>Filhos</th>\n      <th>Fumante</th>\n      <th>Regiao</th>\n      <th>Custos</th>\n    </tr>\n  </thead>\n  <tbody>\n    <tr>\n      <th>0</th>\n      <td>19</td>\n      <td>female</td>\n      <td>27.900</td>\n      <td>0</td>\n      <td>yes</td>\n      <td>southwest</td>\n      <td>16884.92400</td>\n    </tr>\n    <tr>\n      <th>1</th>\n      <td>18</td>\n      <td>male</td>\n      <td>33.770</td>\n      <td>1</td>\n      <td>no</td>\n      <td>southeast</td>\n      <td>1725.55230</td>\n    </tr>\n    <tr>\n      <th>2</th>\n      <td>28</td>\n      <td>male</td>\n      <td>33.000</td>\n      <td>3</td>\n      <td>no</td>\n      <td>southeast</td>\n      <td>4449.46200</td>\n    </tr>\n    <tr>\n      <th>3</th>\n      <td>33</td>\n      <td>male</td>\n      <td>22.705</td>\n      <td>0</td>\n      <td>no</td>\n      <td>northwest</td>\n      <td>21984.47061</td>\n    </tr>\n    <tr>\n      <th>4</th>\n      <td>32</td>\n      <td>male</td>\n      <td>28.880</td>\n      <td>0</td>\n      <td>no</td>\n      <td>northwest</td>\n      <td>3866.85520</td>\n    </tr>\n  </tbody>\n</table>\n</div>"
     },
     "execution_count": 2,
     "metadata": {},
     "output_type": "execute_result"
    }
   ]
  },
  {
   "cell_type": "markdown",
   "source": [
    "### 2.3 Manipulando o DataFrame\n",
    "\n",
    "Somente com os dados que temos, não conseguiremos tirar informações sem algumas suposições. Temos informações sobre idade, sexo, filhos, região, custos e fumante ou não fumante. Não sabemos detalhes sobre Custo pois não nos foi informado, portanto, vamos tratar os dados e simultaneamente, buscar entender melhor o conjunto de dados.\n",
    "\n",
    "A primeira coisa que notamos aqui é que Fumante, nossa variável de estudo, é representada com \"yes\" e \"no\" e também, diferentemente das \"boas maneiras\" da Ciência de Dados, ela não está posicionada na última coluna.\n",
    "\n",
    "Então, vamos posicionar a coluna Fumante como sendo a última, trocar \"yes\" e \"no\" nela por 1 e 0, para facilitar a análise e vamos deixar toda a tabela em PT-BR.\n",
    "\n",
    "Vamos criar um novo DataFrame, preservando o antigo e verificar se as mudanças foram efetuadas."
   ],
   "metadata": {
    "collapsed": false,
    "pycharm": {
     "name": "#%% md\n"
    }
   }
  },
  {
   "cell_type": "code",
   "execution_count": 3,
   "outputs": [
    {
     "data": {
      "text/plain": "   Idade       Sexo     IMC  Filhos    Regiao       Custos  Fumante\n0     19   feminino  27.900       0  sudoeste  16884.92400        1\n1     18  masculino  33.770       1   sudeste   1725.55230        0\n2     28  masculino  33.000       3   sudeste   4449.46200        0\n3     33  masculino  22.705       0  noroeste  21984.47061        0\n4     32  masculino  28.880       0  noroeste   3866.85520        0",
      "text/html": "<div>\n<style scoped>\n    .dataframe tbody tr th:only-of-type {\n        vertical-align: middle;\n    }\n\n    .dataframe tbody tr th {\n        vertical-align: top;\n    }\n\n    .dataframe thead th {\n        text-align: right;\n    }\n</style>\n<table border=\"1\" class=\"dataframe\">\n  <thead>\n    <tr style=\"text-align: right;\">\n      <th></th>\n      <th>Idade</th>\n      <th>Sexo</th>\n      <th>IMC</th>\n      <th>Filhos</th>\n      <th>Regiao</th>\n      <th>Custos</th>\n      <th>Fumante</th>\n    </tr>\n  </thead>\n  <tbody>\n    <tr>\n      <th>0</th>\n      <td>19</td>\n      <td>feminino</td>\n      <td>27.900</td>\n      <td>0</td>\n      <td>sudoeste</td>\n      <td>16884.92400</td>\n      <td>1</td>\n    </tr>\n    <tr>\n      <th>1</th>\n      <td>18</td>\n      <td>masculino</td>\n      <td>33.770</td>\n      <td>1</td>\n      <td>sudeste</td>\n      <td>1725.55230</td>\n      <td>0</td>\n    </tr>\n    <tr>\n      <th>2</th>\n      <td>28</td>\n      <td>masculino</td>\n      <td>33.000</td>\n      <td>3</td>\n      <td>sudeste</td>\n      <td>4449.46200</td>\n      <td>0</td>\n    </tr>\n    <tr>\n      <th>3</th>\n      <td>33</td>\n      <td>masculino</td>\n      <td>22.705</td>\n      <td>0</td>\n      <td>noroeste</td>\n      <td>21984.47061</td>\n      <td>0</td>\n    </tr>\n    <tr>\n      <th>4</th>\n      <td>32</td>\n      <td>masculino</td>\n      <td>28.880</td>\n      <td>0</td>\n      <td>noroeste</td>\n      <td>3866.85520</td>\n      <td>0</td>\n    </tr>\n  </tbody>\n</table>\n</div>"
     },
     "execution_count": 3,
     "metadata": {},
     "output_type": "execute_result"
    }
   ],
   "source": [
    "df = df_old.loc[:,['Idade', 'Sexo', 'IMC', 'Filhos', 'Regiao', 'Custos', 'Fumante']]\n",
    "df.Fumante = df.Fumante.map(dict(yes=1, no=0))\n",
    "df.Regiao = df.Regiao.map(dict(southwest = 'sudoeste', southeast = 'sudeste', northwest = 'noroeste', northeast = 'nordeste'))\n",
    "df.Sexo = df.Sexo.map(dict(male = 'masculino', female = 'feminino'))\n",
    "df.head()"
   ],
   "metadata": {
    "collapsed": false,
    "pycharm": {
     "name": "#%%\n"
    }
   }
  },
  {
   "cell_type": "markdown",
   "source": [
    "### 2.4 Verificação de dados extremos, nulos, vazios e repetidos\n",
    "\n",
    "Agora, vamos verificar se tem algum valor extremo que possa parecer muito fora da realidade, como valores negativos para IMC, idade acima de 100, filhos acima de 10, IMC acima de 60... Ou algo que possa ajudar-nos a entender melhor as variáveis, principalmente a Custos, já que não temos muita informação no Dataset."
   ],
   "metadata": {
    "collapsed": false,
    "pycharm": {
     "name": "#%% md\n"
    }
   }
  },
  {
   "cell_type": "code",
   "execution_count": 4,
   "outputs": [
    {
     "name": "stdout",
     "output_type": "stream",
     "text": [
      "Number of smokers: 274\n"
     ]
    },
    {
     "data": {
      "text/plain": "             Idade          IMC       Filhos        Custos      Fumante\ncount  1338.000000  1338.000000  1338.000000   1338.000000  1338.000000\nmean     39.207025    30.663397     1.094918  13270.422265     0.204783\nstd      14.049960     6.098187     1.205493  12110.011237     0.403694\nmin      18.000000    15.960000     0.000000   1121.873900     0.000000\n25%      27.000000    26.296250     0.000000   4740.287150     0.000000\n50%      39.000000    30.400000     1.000000   9382.033000     0.000000\n75%      51.000000    34.693750     2.000000  16639.912515     0.000000\nmax      64.000000    53.130000     5.000000  63770.428010     1.000000",
      "text/html": "<div>\n<style scoped>\n    .dataframe tbody tr th:only-of-type {\n        vertical-align: middle;\n    }\n\n    .dataframe tbody tr th {\n        vertical-align: top;\n    }\n\n    .dataframe thead th {\n        text-align: right;\n    }\n</style>\n<table border=\"1\" class=\"dataframe\">\n  <thead>\n    <tr style=\"text-align: right;\">\n      <th></th>\n      <th>Idade</th>\n      <th>IMC</th>\n      <th>Filhos</th>\n      <th>Custos</th>\n      <th>Fumante</th>\n    </tr>\n  </thead>\n  <tbody>\n    <tr>\n      <th>count</th>\n      <td>1338.000000</td>\n      <td>1338.000000</td>\n      <td>1338.000000</td>\n      <td>1338.000000</td>\n      <td>1338.000000</td>\n    </tr>\n    <tr>\n      <th>mean</th>\n      <td>39.207025</td>\n      <td>30.663397</td>\n      <td>1.094918</td>\n      <td>13270.422265</td>\n      <td>0.204783</td>\n    </tr>\n    <tr>\n      <th>std</th>\n      <td>14.049960</td>\n      <td>6.098187</td>\n      <td>1.205493</td>\n      <td>12110.011237</td>\n      <td>0.403694</td>\n    </tr>\n    <tr>\n      <th>min</th>\n      <td>18.000000</td>\n      <td>15.960000</td>\n      <td>0.000000</td>\n      <td>1121.873900</td>\n      <td>0.000000</td>\n    </tr>\n    <tr>\n      <th>25%</th>\n      <td>27.000000</td>\n      <td>26.296250</td>\n      <td>0.000000</td>\n      <td>4740.287150</td>\n      <td>0.000000</td>\n    </tr>\n    <tr>\n      <th>50%</th>\n      <td>39.000000</td>\n      <td>30.400000</td>\n      <td>1.000000</td>\n      <td>9382.033000</td>\n      <td>0.000000</td>\n    </tr>\n    <tr>\n      <th>75%</th>\n      <td>51.000000</td>\n      <td>34.693750</td>\n      <td>2.000000</td>\n      <td>16639.912515</td>\n      <td>0.000000</td>\n    </tr>\n    <tr>\n      <th>max</th>\n      <td>64.000000</td>\n      <td>53.130000</td>\n      <td>5.000000</td>\n      <td>63770.428010</td>\n      <td>1.000000</td>\n    </tr>\n  </tbody>\n</table>\n</div>"
     },
     "execution_count": 4,
     "metadata": {},
     "output_type": "execute_result"
    }
   ],
   "source": [
    "# Vizualization of extreme and mean values for checking if there is anything weird on the dataset that must be cleaned\n",
    "print('Number of smokers:' , sum(df.Fumante))\n",
    "df.describe()\n",
    "# df.head()\n",
    "# df['Fumante'].value_counts()"
   ],
   "metadata": {
    "collapsed": false,
    "pycharm": {
     "name": "#%%\n"
    }
   }
  },
  {
   "cell_type": "markdown",
   "source": [
    "Aqui, notamos que não temos valores muito anormais e que o valor máximo e mínimo de Custo é 63770,43 e 1121.87, e o valor médio é de 13270. Supondo que isso seja um valor em reais e que tenha alguma relação com a renda de cada indivíduo (não necessáriamente salário), acredito que possa ter alguma relação com o salário mínimo, na média. Se dividirmos 13270 por 12, temos 1105,83 reais. Como podemos verificar em [http://www.fetapergs.org.br/index.php/2015-07-27-16-46-22/tabelas-salario-minimo](http://www.fetapergs.org.br/index.php/2015-07-27-16-46-22/tabelas-salario-minimo), o salário mínimo de 2021 é 1100,00. Portanto, é razoável supormos que a coluna Custo se trata da renda individual durante o ano de 2021. Dessa forma, acredito que chegamos a um entendimento mais detalhado dos dados.\n",
    "\n",
    "Podemos alterar o nome da coluna Custo para Renda_2021."
   ],
   "metadata": {
    "collapsed": false,
    "pycharm": {
     "name": "#%% md\n"
    }
   }
  },
  {
   "cell_type": "code",
   "execution_count": 5,
   "outputs": [
    {
     "data": {
      "text/plain": "   Idade       Sexo     IMC  Filhos    Regiao   Renda_2021  Fumante\n0     19   feminino  27.900       0  sudoeste  16884.92400        1\n1     18  masculino  33.770       1   sudeste   1725.55230        0\n2     28  masculino  33.000       3   sudeste   4449.46200        0\n3     33  masculino  22.705       0  noroeste  21984.47061        0\n4     32  masculino  28.880       0  noroeste   3866.85520        0",
      "text/html": "<div>\n<style scoped>\n    .dataframe tbody tr th:only-of-type {\n        vertical-align: middle;\n    }\n\n    .dataframe tbody tr th {\n        vertical-align: top;\n    }\n\n    .dataframe thead th {\n        text-align: right;\n    }\n</style>\n<table border=\"1\" class=\"dataframe\">\n  <thead>\n    <tr style=\"text-align: right;\">\n      <th></th>\n      <th>Idade</th>\n      <th>Sexo</th>\n      <th>IMC</th>\n      <th>Filhos</th>\n      <th>Regiao</th>\n      <th>Renda_2021</th>\n      <th>Fumante</th>\n    </tr>\n  </thead>\n  <tbody>\n    <tr>\n      <th>0</th>\n      <td>19</td>\n      <td>feminino</td>\n      <td>27.900</td>\n      <td>0</td>\n      <td>sudoeste</td>\n      <td>16884.92400</td>\n      <td>1</td>\n    </tr>\n    <tr>\n      <th>1</th>\n      <td>18</td>\n      <td>masculino</td>\n      <td>33.770</td>\n      <td>1</td>\n      <td>sudeste</td>\n      <td>1725.55230</td>\n      <td>0</td>\n    </tr>\n    <tr>\n      <th>2</th>\n      <td>28</td>\n      <td>masculino</td>\n      <td>33.000</td>\n      <td>3</td>\n      <td>sudeste</td>\n      <td>4449.46200</td>\n      <td>0</td>\n    </tr>\n    <tr>\n      <th>3</th>\n      <td>33</td>\n      <td>masculino</td>\n      <td>22.705</td>\n      <td>0</td>\n      <td>noroeste</td>\n      <td>21984.47061</td>\n      <td>0</td>\n    </tr>\n    <tr>\n      <th>4</th>\n      <td>32</td>\n      <td>masculino</td>\n      <td>28.880</td>\n      <td>0</td>\n      <td>noroeste</td>\n      <td>3866.85520</td>\n      <td>0</td>\n    </tr>\n  </tbody>\n</table>\n</div>"
     },
     "execution_count": 5,
     "metadata": {},
     "output_type": "execute_result"
    }
   ],
   "source": [
    "# df_old2 = df.copy()\n",
    "# #df['Custos'] = df['Custos']/12.0\n",
    "df = df.rename(columns={'Custos': 'Renda_2021'})\n",
    "\n",
    "df.head()"
   ],
   "metadata": {
    "collapsed": false,
    "pycharm": {
     "name": "#%%\n"
    }
   }
  },
  {
   "cell_type": "markdown",
   "source": [
    "Vamos verificar também se tem algum valor vazio (NAN) ou tipo de dado incoerente e que precise de alguma alteração. Frequentemente vemos valores de datas, por exemplo, sendo reconhecidas como object e não datatime."
   ],
   "metadata": {
    "collapsed": false,
    "pycharm": {
     "name": "#%% md\n"
    }
   }
  },
  {
   "cell_type": "code",
   "execution_count": 6,
   "outputs": [
    {
     "name": "stdout",
     "output_type": "stream",
     "text": [
      "<class 'pandas.core.frame.DataFrame'>\n",
      "RangeIndex: 1338 entries, 0 to 1337\n",
      "Data columns (total 7 columns):\n",
      " #   Column      Non-Null Count  Dtype  \n",
      "---  ------      --------------  -----  \n",
      " 0   Idade       1338 non-null   int64  \n",
      " 1   Sexo        1338 non-null   object \n",
      " 2   IMC         1338 non-null   float64\n",
      " 3   Filhos      1338 non-null   int64  \n",
      " 4   Regiao      1338 non-null   object \n",
      " 5   Renda_2021  1338 non-null   float64\n",
      " 6   Fumante     1338 non-null   int64  \n",
      "dtypes: float64(2), int64(3), object(2)\n",
      "memory usage: 73.3+ KB\n"
     ]
    }
   ],
   "source": [
    "# Getting info about NAN values and data types at the columns to see if there is something to be cleaned or manipulated\n",
    "df.info()"
   ],
   "metadata": {
    "collapsed": false,
    "pycharm": {
     "name": "#%%\n"
    }
   }
  },
  {
   "cell_type": "markdown",
   "source": [
    "De modo a ver se há outros valores únicos além de \"masculino\",\"feminino\", \"sudoeste\",\"sudeste\",\"nordeste\",\"noroeste\", façamos o seguinte:"
   ],
   "metadata": {
    "collapsed": false,
    "pycharm": {
     "name": "#%% md\n"
    }
   }
  },
  {
   "cell_type": "code",
   "execution_count": 7,
   "outputs": [
    {
     "data": {
      "text/plain": "Idade           47\nSexo             2\nIMC            548\nFilhos           6\nRegiao           4\nRenda_2021    1337\nFumante          2\ndtype: int64"
     },
     "execution_count": 7,
     "metadata": {},
     "output_type": "execute_result"
    }
   ],
   "source": [
    "# Counting the unique values at each column\n",
    "df.nunique(axis = 0)"
   ],
   "metadata": {
    "collapsed": false,
    "pycharm": {
     "name": "#%%\n"
    }
   }
  },
  {
   "cell_type": "code",
   "execution_count": 8,
   "outputs": [
    {
     "data": {
      "text/plain": "array(['sudoeste', 'sudeste', 'noroeste', 'nordeste'], dtype=object)"
     },
     "execution_count": 8,
     "metadata": {},
     "output_type": "execute_result"
    }
   ],
   "source": [
    "# Unique values at the Regiao column\n",
    "df.Regiao.unique()"
   ],
   "metadata": {
    "collapsed": false,
    "pycharm": {
     "name": "#%%\n"
    }
   }
  },
  {
   "cell_type": "markdown",
   "source": [
    "Parece tudo ok!\n",
    "\n",
    "### 2.5 Hipóteses\n",
    "\n",
    "Em resumo, temos um DataFrame em PT-BR e com a nossa variável alvo localizada na última coluna.\n",
    "\n",
    "Sobre os dados, temos as seguintes informações:\n",
    "\n",
    "Sexo: masculino ou feminino.\n",
    "Região: sudoeste, sudeste, nordeste, noroeste.\n",
    "IMC: de 15.96 à 53.13.\n",
    "Número de filhos: de 0 à 5.\n",
    "Idade: de 18 à 64.\n",
    "Renda em 2021: 1121.87 à 63770.43.\n",
    "Fumante: sim ou não.\n",
    "\n",
    "Por simplicidade, vamos considerar que os fumantes são exclusivamente fumantes de cigarro tradicional. O valor hoje de um maço de cigarro é em média 7.00 reais. Além disso, um estudo de 2013 revela que o brasileiro consome em média 17 cigarros por dia, e como em cada maço contém 20 cigarros, o gasto mensal fica em torno de 178.50 reais, 16.22% do salário mínimo de 2021 (Fonte: [http://g1.globo.com/pr/norte-noroeste/noticia/2015/07/pesquisa-mostra-que-fumante-gasta-r-10-mil-por-mes-com-cigarros.html](http://g1.globo.com/pr/norte-noroeste/noticia/2015/07/pesquisa-mostra-que-fumante-gasta-r-10-mil-por-mes-com-cigarros.html)).\n",
    "\n",
    "Com isso, podemos formalizar algumas hipóteses:\n",
    "\n",
    "1) Pessoas que ganham mais dinheiro, tem mais chances de serem fumantes.\n",
    "2) Pessoas que moram em regiões mais caras têm maior probabilidade de serem fumantes.\n",
    "3) Pessoas fumantes tendem a ter um IMC maior.\n",
    "4) Fumantes independem do sexo ou da idade.\n",
    "5) Fumantes vivem menos."
   ],
   "metadata": {
    "collapsed": false,
    "pycharm": {
     "name": "#%% md\n"
    }
   }
  },
  {
   "cell_type": "markdown",
   "source": [
    "## 3. Análise exploratória dos dados\n",
    "\n",
    "### 3.1 Entendendo o dataset\n",
    "Vamos primeiramente analisar a taxa de fumantes para checar o balanceamento do dataset:"
   ],
   "metadata": {
    "collapsed": false,
    "pycharm": {
     "name": "#%% md\n"
    }
   }
  },
  {
   "cell_type": "code",
   "source": [
    "Fumante_rate = df.Fumante.value_counts() / len(df)\n",
    "Fumante_rate"
   ],
   "metadata": {
    "collapsed": false,
    "pycharm": {
     "name": "#%%\n"
    }
   },
   "execution_count": 9,
   "outputs": [
    {
     "data": {
      "text/plain": "0    0.795217\n1    0.204783\nName: Fumante, dtype: float64"
     },
     "execution_count": 9,
     "metadata": {},
     "output_type": "execute_result"
    }
   ]
  },
  {
   "cell_type": "code",
   "execution_count": 10,
   "outputs": [
    {
     "name": "stderr",
     "output_type": "stream",
     "text": [
      "d:\\data science\\projects for portfolio\\desafio entrevista\\venv\\lib\\site-packages\\seaborn\\_decorators.py:36: FutureWarning: Pass the following variable as a keyword arg: x. From version 0.12, the only valid positional argument will be `data`, and passing other arguments without an explicit keyword will result in an error or misinterpretation.\n",
      "  warnings.warn(\n"
     ]
    },
    {
     "data": {
      "text/plain": "<Figure size 288x288 with 1 Axes>",
      "image/png": "[encoded data removed]"
     },
     "metadata": {
      "needs_background": "light"
     },
     "output_type": "display_data"
    }
   ],
   "source": [
    "plt.figure(figsize=(4, 4))\n",
    "sns.countplot('Fumante', data=df)\n",
    "plt.title('Imbalanced data')\n",
    "plt.show()"
   ],
   "metadata": {
    "collapsed": false,
    "pycharm": {
     "name": "#%%\n"
    }
   }
  },
  {
   "cell_type": "markdown",
   "source": [
    "- Como podemos perceber, temos bem mais não fumantes que fumantes, portanto, deve-se tomar cuidado com isso durante a análise do modelo de aprendizado de máquina, já que coletamos dados aleatórios do conjunto, e com isso podemos pegar dados de não viciados, prejudicando o modelo."
   ],
   "metadata": {
    "collapsed": false,
    "pycharm": {
     "name": "#%% md\n"
    }
   }
  },
  {
   "cell_type": "code",
   "execution_count": 11,
   "outputs": [
    {
     "data": {
      "text/plain": "             Idade        IMC    Filhos    Renda_2021\nFumante                                              \n0        39.385338  30.651795  1.090226   8434.268298\n1        38.514599  30.708449  1.113139  32050.231832",
      "text/html": "<div>\n<style scoped>\n    .dataframe tbody tr th:only-of-type {\n        vertical-align: middle;\n    }\n\n    .dataframe tbody tr th {\n        vertical-align: top;\n    }\n\n    .dataframe thead th {\n        text-align: right;\n    }\n</style>\n<table border=\"1\" class=\"dataframe\">\n  <thead>\n    <tr style=\"text-align: right;\">\n      <th></th>\n      <th>Idade</th>\n      <th>IMC</th>\n      <th>Filhos</th>\n      <th>Renda_2021</th>\n    </tr>\n    <tr>\n      <th>Fumante</th>\n      <th></th>\n      <th></th>\n      <th></th>\n      <th></th>\n    </tr>\n  </thead>\n  <tbody>\n    <tr>\n      <th>0</th>\n      <td>39.385338</td>\n      <td>30.651795</td>\n      <td>1.090226</td>\n      <td>8434.268298</td>\n    </tr>\n    <tr>\n      <th>1</th>\n      <td>38.514599</td>\n      <td>30.708449</td>\n      <td>1.113139</td>\n      <td>32050.231832</td>\n    </tr>\n  </tbody>\n</table>\n</div>"
     },
     "execution_count": 11,
     "metadata": {},
     "output_type": "execute_result"
    }
   ],
   "source": [
    "Fumante_summary = df.groupby('Fumante')\n",
    "Fumante_summary.mean()"
   ],
   "metadata": {
    "collapsed": false,
    "pycharm": {
     "name": "#%%\n"
    }
   }
  },
  {
   "cell_type": "code",
   "execution_count": 12,
   "outputs": [
    {
     "data": {
      "text/plain": "         Idade      IMC  Filhos   Renda_2021\nFumante                                     \n0         40.0  30.3525     1.0   7345.40530\n1         38.0  30.4475     1.0  34456.34845",
      "text/html": "<div>\n<style scoped>\n    .dataframe tbody tr th:only-of-type {\n        vertical-align: middle;\n    }\n\n    .dataframe tbody tr th {\n        vertical-align: top;\n    }\n\n    .dataframe thead th {\n        text-align: right;\n    }\n</style>\n<table border=\"1\" class=\"dataframe\">\n  <thead>\n    <tr style=\"text-align: right;\">\n      <th></th>\n      <th>Idade</th>\n      <th>IMC</th>\n      <th>Filhos</th>\n      <th>Renda_2021</th>\n    </tr>\n    <tr>\n      <th>Fumante</th>\n      <th></th>\n      <th></th>\n      <th></th>\n      <th></th>\n    </tr>\n  </thead>\n  <tbody>\n    <tr>\n      <th>0</th>\n      <td>40.0</td>\n      <td>30.3525</td>\n      <td>1.0</td>\n      <td>7345.40530</td>\n    </tr>\n    <tr>\n      <th>1</th>\n      <td>38.0</td>\n      <td>30.4475</td>\n      <td>1.0</td>\n      <td>34456.34845</td>\n    </tr>\n  </tbody>\n</table>\n</div>"
     },
     "execution_count": 12,
     "metadata": {},
     "output_type": "execute_result"
    }
   ],
   "source": [
    "Fumante_summary = df.groupby('Fumante')\n",
    "Fumante_summary.median()"
   ],
   "metadata": {
    "collapsed": false,
    "pycharm": {
     "name": "#%%\n"
    }
   }
  },
  {
   "cell_type": "markdown",
   "source": [
    "### 3.2 Correlações\n",
    "\n",
    "A matriz de correlação fica:"
   ],
   "metadata": {
    "collapsed": false
   }
  },
  {
   "cell_type": "code",
   "execution_count": 13,
   "outputs": [
    {
     "data": {
      "text/plain": "<AxesSubplot:>"
     },
     "execution_count": 13,
     "metadata": {},
     "output_type": "execute_result"
    },
    {
     "data": {
      "text/plain": "<Figure size 432x288 with 2 Axes>",
      "image/png": "[encoded data removed]"
     },
     "metadata": {
      "needs_background": "light"
     },
     "output_type": "display_data"
    }
   ],
   "source": [
    "#Correlation matrix as a preliminar analysis\n",
    "corr = df.corr()# plot the heatmap\n",
    "sns.heatmap(corr, xticklabels=corr.columns, yticklabels=corr.columns, annot=True, cmap=sns.diverging_palette(220, 20, as_cmap=True))"
   ],
   "metadata": {
    "collapsed": false,
    "pycharm": {
     "name": "#%%\n"
    }
   }
  },
  {
   "cell_type": "markdown",
   "source": [
    "A matriz de correlação representa quão proporcional está um parâmetro de outro. Por exemplo, se analisarmos Fumante, apenas, vemos que Fumante possui uma correlação de 0.79 com Renda, 0.0077 com Filhos, 0.0038 com IMC e -0.025 com Idade. Portanto, somente pela análise da correlação, já conseguimos verificar que: renda é um grande diferencial entre fumantes e não fumantes.\n",
    "\n",
    "Podemos também verificar a média de Filhos, IMC, Idade e Renda_2021 para fumantes e não fumantes:"
   ],
   "metadata": {
    "collapsed": false,
    "pycharm": {
     "name": "#%% md\n"
    }
   }
  },
  {
   "cell_type": "code",
   "execution_count": 14,
   "outputs": [],
   "source": [
    "#pd.pivot_table(df, index = 'Fumante', values = ['Idade', 'Sexo', 'IMC', 'Filhos', 'Regiao', 'Renda_2021'])"
   ],
   "metadata": {
    "collapsed": false,
    "pycharm": {
     "name": "#%%\n"
    }
   }
  },
  {
   "cell_type": "markdown",
   "source": [
    "Aqui notamos outra vez que na média Filhos, IMC, Idade, são praticamente iguais tanto para fumantes como para não fumantes. No entando, a Renda_2021 média muda drasticamente, o que confirma mais uma vez, que fumantes costumam ter renda maior que não fumantes para manter o vício.\n",
    "\n",
    "Podemos também comparar os fumantes por regiões diferentes e comparar se tem alguma variação muito grande."
   ],
   "metadata": {
    "collapsed": false,
    "pycharm": {
     "name": "#%% md\n"
    }
   }
  },
  {
   "cell_type": "markdown",
   "source": [
    "### 3.3 Exploração de tabelas e gráficos: insights e questões"
   ],
   "metadata": {
    "collapsed": false,
    "pycharm": {
     "name": "#%% md\n"
    }
   }
  },
  {
   "cell_type": "code",
   "execution_count": 15,
   "outputs": [
    {
     "name": "stdout",
     "output_type": "stream",
     "text": [
      "Fumante  = 1\n",
      "            Filhos        IMC      Idade    Renda_2021\n",
      "Regiao                                                \n",
      "nordeste  1.044776  28.565224  38.238806  29673.536473\n",
      "noroeste  1.275862  29.140431  39.327586  30192.003182\n",
      "sudeste   1.000000  33.096703  39.736264  34844.996824\n",
      "sudoeste  1.206897  31.005172  36.103448  32269.063494\n",
      "\n",
      "\n",
      "Fumante  = 0\n",
      "            Filhos        IMC      Idade   Renda_2021\n",
      "Regiao                                               \n",
      "nordeste  1.046693  29.332082  39.536965  9165.531672\n",
      "noroeste  1.119850  29.212678  39.168539  8556.463715\n",
      "sudeste   1.065934  33.442418  38.673993  8032.216309\n",
      "sudoeste  1.127341  30.507865  40.183521  8019.284513\n"
     ]
    }
   ],
   "source": [
    "df_yes = df.loc[df[\"Fumante\"] == 1]\n",
    "df_no = df.loc[df[\"Fumante\"] == 0]\n",
    "print('Fumante  = 1')\n",
    "print(pd.pivot_table(df_yes, index = 'Regiao', values = ['Idade', 'Sexo', 'IMC', 'Filhos', 'Renda_2021']))\n",
    "print()\n",
    "print()\n",
    "print('Fumante  = 0')\n",
    "print(pd.pivot_table(df_no, index = 'Regiao', values = ['Idade', 'Sexo', 'IMC', 'Filhos', 'Renda_2021']))"
   ],
   "metadata": {
    "collapsed": false,
    "pycharm": {
     "name": "#%%\n"
    }
   }
  },
  {
   "cell_type": "code",
   "execution_count": 16,
   "outputs": [
    {
     "data": {
      "text/plain": "<Figure size 1080x720 with 6 Axes>",
      "image/png": "[encoded data removed]"
     },
     "metadata": {
      "needs_background": "light"
     },
     "output_type": "display_data"
    }
   ],
   "source": [
    "#Visualize the count of smokers for columns 'age', 'sex', 'IMC', 'sons', 'costs', and 'region'\n",
    "cols = ['Idade', 'Sexo', 'IMC', 'Filhos', 'Renda_2021','Regiao']\n",
    "\n",
    "n_rows = 2\n",
    "n_cols = 3\n",
    "\n",
    "#The subplot grid and the figure size of each graph\n",
    "#This returns a Figure (fig) and an Axes Object (axs)\n",
    "fig, axs = plt.subplots(n_rows, n_cols, figsize=(n_cols*5,n_rows*5))\n",
    "\n",
    "for r in range(0,n_rows):\n",
    "    for c in range(0,n_cols):\n",
    "\n",
    "        i = r*n_cols+ c #index to go through the number of columns\n",
    "        ax = axs[r][c] #Show where to position each subplot\n",
    "        sns.countplot(x = df[cols[i]], hue=df[\"Fumante\"], ax=ax)\n",
    "        ax.set_title(cols[i])\n",
    "        ax.legend(title=\"Fumante\", loc='upper right')\n",
    "\n",
    "plt.tight_layout()   #tight_layout"
   ],
   "metadata": {
    "collapsed": false,
    "pycharm": {
     "name": "#%%\n"
    }
   }
  },
  {
   "cell_type": "markdown",
   "source": [
    "-- Resumo:\n",
    "- Pessoas com mais renda têm maior probabilidade de ser fumante.\n",
    "- Homens tendem a fumar mais que mulheres\n",
    "- Sudeste tem mais fumantes que as outras regiões.\n",
    "\n",
    "-- Questões:\n",
    "- Por que na região sudeste tem mais fumantes? Desigualdade econômica?\n",
    "- O que causa o pico de fumantes dos 18 aos 20 anos?\n",
    "- O que causa pessoas com 1 a 2 filhos terem maiores chances de serem fumantes?\n",
    "- O que leva homens a terem maior probabilidade de serem fumantes? Desigualdade de renda entre homens e mulheres, talvez?"
   ],
   "metadata": {
    "collapsed": false,
    "pycharm": {
     "name": "#%% md\n"
    }
   }
  },
  {
   "cell_type": "code",
   "execution_count": 17,
   "outputs": [
    {
     "data": {
      "text/plain": "            Fumante\nSexo               \nfeminino   0.173716\nmasculino  0.235207",
      "text/html": "<div>\n<style scoped>\n    .dataframe tbody tr th:only-of-type {\n        vertical-align: middle;\n    }\n\n    .dataframe tbody tr th {\n        vertical-align: top;\n    }\n\n    .dataframe thead th {\n        text-align: right;\n    }\n</style>\n<table border=\"1\" class=\"dataframe\">\n  <thead>\n    <tr style=\"text-align: right;\">\n      <th></th>\n      <th>Fumante</th>\n    </tr>\n    <tr>\n      <th>Sexo</th>\n      <th></th>\n    </tr>\n  </thead>\n  <tbody>\n    <tr>\n      <th>feminino</th>\n      <td>0.173716</td>\n    </tr>\n    <tr>\n      <th>masculino</th>\n      <td>0.235207</td>\n    </tr>\n  </tbody>\n</table>\n</div>"
     },
     "execution_count": 17,
     "metadata": {},
     "output_type": "execute_result"
    }
   ],
   "source": [
    "# Ratio of smokers per sex\n",
    "df.groupby('Sexo')[['Fumante']].mean()"
   ],
   "metadata": {
    "collapsed": false,
    "pycharm": {
     "name": "#%%\n"
    }
   }
  },
  {
   "cell_type": "code",
   "execution_count": 18,
   "outputs": [
    {
     "data": {
      "text/plain": "         Fumante\nFilhos          \n0       0.200348\n1       0.188272\n2       0.229167\n3       0.248408\n4       0.120000\n5       0.055556",
      "text/html": "<div>\n<style scoped>\n    .dataframe tbody tr th:only-of-type {\n        vertical-align: middle;\n    }\n\n    .dataframe tbody tr th {\n        vertical-align: top;\n    }\n\n    .dataframe thead th {\n        text-align: right;\n    }\n</style>\n<table border=\"1\" class=\"dataframe\">\n  <thead>\n    <tr style=\"text-align: right;\">\n      <th></th>\n      <th>Fumante</th>\n    </tr>\n    <tr>\n      <th>Filhos</th>\n      <th></th>\n    </tr>\n  </thead>\n  <tbody>\n    <tr>\n      <th>0</th>\n      <td>0.200348</td>\n    </tr>\n    <tr>\n      <th>1</th>\n      <td>0.188272</td>\n    </tr>\n    <tr>\n      <th>2</th>\n      <td>0.229167</td>\n    </tr>\n    <tr>\n      <th>3</th>\n      <td>0.248408</td>\n    </tr>\n    <tr>\n      <th>4</th>\n      <td>0.120000</td>\n    </tr>\n    <tr>\n      <th>5</th>\n      <td>0.055556</td>\n    </tr>\n  </tbody>\n</table>\n</div>"
     },
     "execution_count": 18,
     "metadata": {},
     "output_type": "execute_result"
    }
   ],
   "source": [
    "#Ratio of smokers per number of children\n",
    "df.groupby('Filhos')[['Fumante']].mean()"
   ],
   "metadata": {
    "collapsed": false,
    "pycharm": {
     "name": "#%%\n"
    }
   }
  },
  {
   "cell_type": "code",
   "execution_count": 19,
   "outputs": [
    {
     "data": {
      "text/plain": "           Fumante\nRegiao            \nnordeste  0.206790\nnoroeste  0.178462\nsudeste   0.250000\nsudoeste  0.178462",
      "text/html": "<div>\n<style scoped>\n    .dataframe tbody tr th:only-of-type {\n        vertical-align: middle;\n    }\n\n    .dataframe tbody tr th {\n        vertical-align: top;\n    }\n\n    .dataframe thead th {\n        text-align: right;\n    }\n</style>\n<table border=\"1\" class=\"dataframe\">\n  <thead>\n    <tr style=\"text-align: right;\">\n      <th></th>\n      <th>Fumante</th>\n    </tr>\n    <tr>\n      <th>Regiao</th>\n      <th></th>\n    </tr>\n  </thead>\n  <tbody>\n    <tr>\n      <th>nordeste</th>\n      <td>0.206790</td>\n    </tr>\n    <tr>\n      <th>noroeste</th>\n      <td>0.178462</td>\n    </tr>\n    <tr>\n      <th>sudeste</th>\n      <td>0.250000</td>\n    </tr>\n    <tr>\n      <th>sudoeste</th>\n      <td>0.178462</td>\n    </tr>\n  </tbody>\n</table>\n</div>"
     },
     "execution_count": 19,
     "metadata": {},
     "output_type": "execute_result"
    }
   ],
   "source": [
    "#Ratio of smokers per Region\n",
    "df.groupby('Regiao')[['Fumante']].mean()"
   ],
   "metadata": {
    "collapsed": false,
    "pycharm": {
     "name": "#%%\n"
    }
   }
  },
  {
   "cell_type": "markdown",
   "source": [
    "### 3.3.1 Renda vs Fumante"
   ],
   "metadata": {
    "collapsed": false,
    "pycharm": {
     "name": "#%% md\n"
    }
   }
  },
  {
   "cell_type": "code",
   "execution_count": 20,
   "outputs": [
    {
     "data": {
      "text/plain": "<AxesSubplot:xlabel='Fumante', ylabel='Renda_2021'>"
     },
     "execution_count": 20,
     "metadata": {},
     "output_type": "execute_result"
    },
    {
     "data": {
      "text/plain": "<Figure size 432x288 with 1 Axes>",
      "image/png": "[encoded data removed]"
     },
     "metadata": {
      "needs_background": "light"
     },
     "output_type": "display_data"
    }
   ],
   "source": [
    "sns.boxplot(x=\"Fumante\", y=\"Renda_2021\",\n",
    "                data=df)"
   ],
   "metadata": {
    "collapsed": false,
    "pycharm": {
     "name": "#%%\n"
    }
   }
  },
  {
   "cell_type": "markdown",
   "source": [
    "-- Resumo:\n",
    "- Fumantes tendem a ter uma renda maior que não fumantes."
   ],
   "metadata": {
    "collapsed": false,
    "pycharm": {
     "name": "#%% md\n"
    }
   }
  },
  {
   "cell_type": "markdown",
   "source": [
    "### 3.3.1 Filhos vs Fumante"
   ],
   "metadata": {
    "collapsed": false,
    "pycharm": {
     "name": "#%% md\n"
    }
   }
  },
  {
   "cell_type": "code",
   "execution_count": 21,
   "outputs": [
    {
     "data": {
      "text/plain": "<Figure size 432x288 with 1 Axes>",
      "image/png": "[encoded data removed]"
     },
     "metadata": {
      "needs_background": "light"
     },
     "output_type": "display_data"
    }
   ],
   "source": [
    "sns.boxplot(x=\"Fumante\", y=\"Filhos\",\n",
    "                data=df)\n",
    "xlabel='Fumante'\n",
    "ylabel='Filhos'"
   ],
   "metadata": {
    "collapsed": false,
    "pycharm": {
     "name": "#%%\n"
    }
   }
  },
  {
   "cell_type": "markdown",
   "source": [
    "-- Resumo:\n",
    "- Número de filhos não parece ter relação com ser fumante ou não.\n",
    "- Ainda fica em aberto a questão feita acima: O que causa pessoas com 1 a 2 filhos terem maiores chances de serem fumantes?"
   ],
   "metadata": {
    "collapsed": false,
    "pycharm": {
     "name": "#%% md\n"
    }
   }
  },
  {
   "cell_type": "markdown",
   "source": [
    "### 3.3.2 IMC vs Fumante"
   ],
   "metadata": {
    "collapsed": false,
    "pycharm": {
     "name": "#%% md\n"
    }
   }
  },
  {
   "cell_type": "code",
   "execution_count": 22,
   "outputs": [
    {
     "data": {
      "text/plain": "<AxesSubplot:xlabel='Fumante', ylabel='IMC'>"
     },
     "execution_count": 22,
     "metadata": {},
     "output_type": "execute_result"
    },
    {
     "data": {
      "text/plain": "<Figure size 432x288 with 1 Axes>",
      "image/png": "[encoded data removed]"
     },
     "metadata": {
      "needs_background": "light"
     },
     "output_type": "display_data"
    }
   ],
   "source": [
    "# sns.catplot(x=\"IMC\", col=\"Fumante\",\n",
    "#                 data=df,kind=\"box\",\n",
    "#                 height=4, aspect=1.1);\n",
    "sns.boxplot(x=\"Fumante\", y=\"IMC\",\n",
    "                data=df)"
   ],
   "metadata": {
    "collapsed": false,
    "pycharm": {
     "name": "#%%\n"
    }
   }
  },
  {
   "cell_type": "markdown",
   "source": [
    "-- Resumo:\n",
    "- Pessoas fumantes não parecem ter IMC diferente de pessoas não fumantes."
   ],
   "metadata": {
    "collapsed": false,
    "pycharm": {
     "name": "#%% md\n"
    }
   }
  },
  {
   "cell_type": "markdown",
   "source": [
    "### 3.3.2 Sexo vs Fumante"
   ],
   "metadata": {
    "collapsed": false
   }
  },
  {
   "cell_type": "code",
   "execution_count": 23,
   "outputs": [
    {
     "data": {
      "text/plain": "<Figure size 403.8x288 with 1 Axes>",
      "image/png": "[encoded data removed]"
     },
     "metadata": {
      "needs_background": "light"
     },
     "output_type": "display_data"
    }
   ],
   "source": [
    "sns.catplot(x=\"Fumante\", hue=\"Sexo\",\n",
    "                data=df, kind=\"count\",\n",
    "\n",
    "                height=4, aspect=1.1);"
   ],
   "metadata": {
    "collapsed": false,
    "pycharm": {
     "name": "#%%\n"
    }
   }
  },
  {
   "cell_type": "markdown",
   "source": [
    "-- Resumo:\n",
    "- Temos mais homens fumantes do que mulheres."
   ],
   "metadata": {
    "collapsed": false,
    "pycharm": {
     "name": "#%% md\n"
    }
   }
  },
  {
   "cell_type": "code",
   "execution_count": 24,
   "outputs": [
    {
     "data": {
      "text/plain": "<Figure size 720.6x288 with 2 Axes>",
      "image/png": "[encoded data removed]"
     },
     "metadata": {
      "needs_background": "light"
     },
     "output_type": "display_data"
    }
   ],
   "source": [
    "sns.catplot(x=\"Regiao\", hue=\"Sexo\", col=\"Fumante\",\n",
    "                data=df, kind=\"count\",\n",
    "\n",
    "                height=4, aspect=1.1);"
   ],
   "metadata": {
    "collapsed": false,
    "pycharm": {
     "name": "#%%\n"
    }
   }
  },
  {
   "cell_type": "markdown",
   "source": [
    "-- Resumo:\n",
    "- Tem mais mulheres não fumantes que homens não fumantes nas 4 regiões:\n",
    "- Temos mais homens fumantes que mulheres fumantes, exceto noroeste que parece igual."
   ],
   "metadata": {
    "collapsed": false
   }
  },
  {
   "cell_type": "markdown",
   "source": [
    "### Idade vs Fumante"
   ],
   "metadata": {
    "collapsed": false,
    "pycharm": {
     "name": "#%% md\n"
    }
   }
  },
  {
   "cell_type": "code",
   "execution_count": 25,
   "outputs": [
    {
     "data": {
      "text/plain": "<AxesSubplot:xlabel='Fumante', ylabel='Idade'>"
     },
     "execution_count": 25,
     "metadata": {},
     "output_type": "execute_result"
    },
    {
     "data": {
      "text/plain": "<Figure size 432x288 with 1 Axes>",
      "image/png": "[encoded data removed]"
     },
     "metadata": {
      "needs_background": "light"
     },
     "output_type": "display_data"
    }
   ],
   "source": [
    "# sns.catplot(x='Idade', col=\"Fumante\",\n",
    "#                 data=df,kind=\"box\",\n",
    "#                 height=4, aspect=1.1);\n",
    "sns.boxplot(x=\"Fumante\", y=\"Idade\",\n",
    "                data=df)"
   ],
   "metadata": {
    "collapsed": false,
    "pycharm": {
     "name": "#%%\n"
    }
   }
  },
  {
   "cell_type": "markdown",
   "source": [
    "-- Resumo\n",
    "- Fumantes vivem cerca de 2 anos menos."
   ],
   "metadata": {
    "collapsed": false
   }
  },
  {
   "cell_type": "code",
   "execution_count": 26,
   "outputs": [
    {
     "data": {
      "text/plain": "           Fumante\nIdade             \n(18, 20]  0.278351\n(20, 80]  0.200512",
      "text/html": "<div>\n<style scoped>\n    .dataframe tbody tr th:only-of-type {\n        vertical-align: middle;\n    }\n\n    .dataframe tbody tr th {\n        vertical-align: top;\n    }\n\n    .dataframe thead th {\n        text-align: right;\n    }\n</style>\n<table border=\"1\" class=\"dataframe\">\n  <thead>\n    <tr style=\"text-align: right;\">\n      <th></th>\n      <th>Fumante</th>\n    </tr>\n    <tr>\n      <th>Idade</th>\n      <th></th>\n    </tr>\n  </thead>\n  <tbody>\n    <tr>\n      <th>(18, 20]</th>\n      <td>0.278351</td>\n    </tr>\n    <tr>\n      <th>(20, 80]</th>\n      <td>0.200512</td>\n    </tr>\n  </tbody>\n</table>\n</div>"
     },
     "execution_count": 26,
     "metadata": {},
     "output_type": "execute_result"
    }
   ],
   "source": [
    "#Look at smoker rate by sex, age and region\n",
    "Idade = pd.cut(df['Idade'], [18, 20, 80])\n",
    "df.pivot_table('Fumante', [Idade])"
   ],
   "metadata": {
    "collapsed": false,
    "pycharm": {
     "name": "#%%\n"
    }
   }
  },
  {
   "cell_type": "markdown",
   "source": [
    "-- Resumo:\n",
    "- Há uma porcentagem maior de fumantes entre 18 e 20 anos.\n",
    "\n",
    "-- Questões:\n",
    "- O que leva jovens a fumarem mais?"
   ],
   "metadata": {
    "collapsed": false,
    "pycharm": {
     "name": "#%% md\n"
    }
   }
  },
  {
   "cell_type": "code",
   "execution_count": 27,
   "outputs": [
    {
     "data": {
      "text/plain": "<Figure size 879x720 with 1 Axes>",
      "image/png": "[encoded data removed]"
     },
     "metadata": {
      "needs_background": "light"
     },
     "output_type": "display_data"
    }
   ],
   "source": [
    "sns.catplot(x=\"Fumante\", y=\"Idade\", hue = 'Sexo',\n",
    "                data=df, kind=\"box\",\n",
    "                height=10, aspect=1.1);"
   ],
   "metadata": {
    "collapsed": false,
    "pycharm": {
     "name": "#%%\n"
    }
   }
  },
  {
   "cell_type": "markdown",
   "source": [
    "-- Resumo\n",
    "- Homens vivem 1 ano a menos que mulheres.\n",
    "- A idade média de fumantes diminui em ambos os sexos quando comparado a não fumantes."
   ],
   "metadata": {
    "collapsed": false
   }
  },
  {
   "cell_type": "code",
   "execution_count": 28,
   "outputs": [
    {
     "data": {
      "text/plain": "           Idade                                                        IMC  \\\n           count       mean        std   min   25%   50%   75%   max  count   \nSexo                                                                          \nfeminino   115.0  38.608696  14.217419  18.0  26.5  39.0  48.5  64.0  115.0   \nmasculino  159.0  38.446541  13.751247  18.0  27.0  38.0  49.5  64.0  159.0   \n\n                      ...   Renda_2021              Fumante                 \\\n                mean  ...          75%          max   count mean  std  min   \nSexo                  ...                                                    \nfeminino   29.608261  ...  40918.31450  63770.42801   115.0  1.0  0.0  1.0   \nmasculino  31.504182  ...  41797.58905  62592.87309   159.0  1.0  0.0  1.0   \n\n                               \n           25%  50%  75%  max  \nSexo                           \nfeminino   1.0  1.0  1.0  1.0  \nmasculino  1.0  1.0  1.0  1.0  \n\n[2 rows x 40 columns]",
      "text/html": "<div>\n<style scoped>\n    .dataframe tbody tr th:only-of-type {\n        vertical-align: middle;\n    }\n\n    .dataframe tbody tr th {\n        vertical-align: top;\n    }\n\n    .dataframe thead tr th {\n        text-align: left;\n    }\n\n    .dataframe thead tr:last-of-type th {\n        text-align: right;\n    }\n</style>\n<table border=\"1\" class=\"dataframe\">\n  <thead>\n    <tr>\n      <th></th>\n      <th colspan=\"8\" halign=\"left\">Idade</th>\n      <th colspan=\"2\" halign=\"left\">IMC</th>\n      <th>...</th>\n      <th colspan=\"2\" halign=\"left\">Renda_2021</th>\n      <th colspan=\"8\" halign=\"left\">Fumante</th>\n    </tr>\n    <tr>\n      <th></th>\n      <th>count</th>\n      <th>mean</th>\n      <th>std</th>\n      <th>min</th>\n      <th>25%</th>\n      <th>50%</th>\n      <th>75%</th>\n      <th>max</th>\n      <th>count</th>\n      <th>mean</th>\n      <th>...</th>\n      <th>75%</th>\n      <th>max</th>\n      <th>count</th>\n      <th>mean</th>\n      <th>std</th>\n      <th>min</th>\n      <th>25%</th>\n      <th>50%</th>\n      <th>75%</th>\n      <th>max</th>\n    </tr>\n    <tr>\n      <th>Sexo</th>\n      <th></th>\n      <th></th>\n      <th></th>\n      <th></th>\n      <th></th>\n      <th></th>\n      <th></th>\n      <th></th>\n      <th></th>\n      <th></th>\n      <th></th>\n      <th></th>\n      <th></th>\n      <th></th>\n      <th></th>\n      <th></th>\n      <th></th>\n      <th></th>\n      <th></th>\n      <th></th>\n      <th></th>\n    </tr>\n  </thead>\n  <tbody>\n    <tr>\n      <th>feminino</th>\n      <td>115.0</td>\n      <td>38.608696</td>\n      <td>14.217419</td>\n      <td>18.0</td>\n      <td>26.5</td>\n      <td>39.0</td>\n      <td>48.5</td>\n      <td>64.0</td>\n      <td>115.0</td>\n      <td>29.608261</td>\n      <td>...</td>\n      <td>40918.31450</td>\n      <td>63770.42801</td>\n      <td>115.0</td>\n      <td>1.0</td>\n      <td>0.0</td>\n      <td>1.0</td>\n      <td>1.0</td>\n      <td>1.0</td>\n      <td>1.0</td>\n      <td>1.0</td>\n    </tr>\n    <tr>\n      <th>masculino</th>\n      <td>159.0</td>\n      <td>38.446541</td>\n      <td>13.751247</td>\n      <td>18.0</td>\n      <td>27.0</td>\n      <td>38.0</td>\n      <td>49.5</td>\n      <td>64.0</td>\n      <td>159.0</td>\n      <td>31.504182</td>\n      <td>...</td>\n      <td>41797.58905</td>\n      <td>62592.87309</td>\n      <td>159.0</td>\n      <td>1.0</td>\n      <td>0.0</td>\n      <td>1.0</td>\n      <td>1.0</td>\n      <td>1.0</td>\n      <td>1.0</td>\n      <td>1.0</td>\n    </tr>\n  </tbody>\n</table>\n<p>2 rows × 40 columns</p>\n</div>"
     },
     "execution_count": 28,
     "metadata": {},
     "output_type": "execute_result"
    }
   ],
   "source": [
    "df_yes.groupby('Sexo').describe()"
   ],
   "metadata": {
    "collapsed": false,
    "pycharm": {
     "name": "#%%\n"
    }
   }
  },
  {
   "cell_type": "code",
   "execution_count": 29,
   "outputs": [
    {
     "data": {
      "text/plain": "           Idade                                                        IMC  \\\n           count       mean        std   min   25%   50%   75%   max  count   \nSexo                                                                          \nfeminino   547.0  39.691042  14.025538  18.0  27.0  40.0  52.0  64.0  547.0   \nmasculino  517.0  39.061896  14.150768  18.0  26.0  39.0  51.0  64.0  517.0   \n\n                      ...  Renda_2021              Fumante                 \\\n                mean  ...         75%          max   count mean  std  min   \nSexo                  ...                                                   \nfeminino   30.539525  ...  11786.1666  36910.60803   547.0  0.0  0.0  0.0   \nmasculino  30.770580  ...  10959.3300  32108.66282   517.0  0.0  0.0  0.0   \n\n                               \n           25%  50%  75%  max  \nSexo                           \nfeminino   0.0  0.0  0.0  0.0  \nmasculino  0.0  0.0  0.0  0.0  \n\n[2 rows x 40 columns]",
      "text/html": "<div>\n<style scoped>\n    .dataframe tbody tr th:only-of-type {\n        vertical-align: middle;\n    }\n\n    .dataframe tbody tr th {\n        vertical-align: top;\n    }\n\n    .dataframe thead tr th {\n        text-align: left;\n    }\n\n    .dataframe thead tr:last-of-type th {\n        text-align: right;\n    }\n</style>\n<table border=\"1\" class=\"dataframe\">\n  <thead>\n    <tr>\n      <th></th>\n      <th colspan=\"8\" halign=\"left\">Idade</th>\n      <th colspan=\"2\" halign=\"left\">IMC</th>\n      <th>...</th>\n      <th colspan=\"2\" halign=\"left\">Renda_2021</th>\n      <th colspan=\"8\" halign=\"left\">Fumante</th>\n    </tr>\n    <tr>\n      <th></th>\n      <th>count</th>\n      <th>mean</th>\n      <th>std</th>\n      <th>min</th>\n      <th>25%</th>\n      <th>50%</th>\n      <th>75%</th>\n      <th>max</th>\n      <th>count</th>\n      <th>mean</th>\n      <th>...</th>\n      <th>75%</th>\n      <th>max</th>\n      <th>count</th>\n      <th>mean</th>\n      <th>std</th>\n      <th>min</th>\n      <th>25%</th>\n      <th>50%</th>\n      <th>75%</th>\n      <th>max</th>\n    </tr>\n    <tr>\n      <th>Sexo</th>\n      <th></th>\n      <th></th>\n      <th></th>\n      <th></th>\n      <th></th>\n      <th></th>\n      <th></th>\n      <th></th>\n      <th></th>\n      <th></th>\n      <th></th>\n      <th></th>\n      <th></th>\n      <th></th>\n      <th></th>\n      <th></th>\n      <th></th>\n      <th></th>\n      <th></th>\n      <th></th>\n      <th></th>\n    </tr>\n  </thead>\n  <tbody>\n    <tr>\n      <th>feminino</th>\n      <td>547.0</td>\n      <td>39.691042</td>\n      <td>14.025538</td>\n      <td>18.0</td>\n      <td>27.0</td>\n      <td>40.0</td>\n      <td>52.0</td>\n      <td>64.0</td>\n      <td>547.0</td>\n      <td>30.539525</td>\n      <td>...</td>\n      <td>11786.1666</td>\n      <td>36910.60803</td>\n      <td>547.0</td>\n      <td>0.0</td>\n      <td>0.0</td>\n      <td>0.0</td>\n      <td>0.0</td>\n      <td>0.0</td>\n      <td>0.0</td>\n      <td>0.0</td>\n    </tr>\n    <tr>\n      <th>masculino</th>\n      <td>517.0</td>\n      <td>39.061896</td>\n      <td>14.150768</td>\n      <td>18.0</td>\n      <td>26.0</td>\n      <td>39.0</td>\n      <td>51.0</td>\n      <td>64.0</td>\n      <td>517.0</td>\n      <td>30.770580</td>\n      <td>...</td>\n      <td>10959.3300</td>\n      <td>32108.66282</td>\n      <td>517.0</td>\n      <td>0.0</td>\n      <td>0.0</td>\n      <td>0.0</td>\n      <td>0.0</td>\n      <td>0.0</td>\n      <td>0.0</td>\n      <td>0.0</td>\n    </tr>\n  </tbody>\n</table>\n<p>2 rows × 40 columns</p>\n</div>"
     },
     "execution_count": 29,
     "metadata": {},
     "output_type": "execute_result"
    }
   ],
   "source": [
    "df_no.groupby('Sexo').describe()"
   ],
   "metadata": {
    "collapsed": false,
    "pycharm": {
     "name": "#%%\n"
    }
   }
  },
  {
   "cell_type": "markdown",
   "source": [
    "### 3.3.3 Sexo vs Renda"
   ],
   "metadata": {
    "collapsed": false
   }
  },
  {
   "cell_type": "code",
   "execution_count": 30,
   "outputs": [
    {
     "data": {
      "text/plain": "<Figure size 432x288 with 1 Axes>",
      "image/png": "[encoded data removed]"
     },
     "metadata": {
      "needs_background": "light"
     },
     "output_type": "display_data"
    }
   ],
   "source": [
    "sns.boxplot(x=\"Sexo\", y=\"Renda_2021\",\n",
    "                data=df)\n",
    "xlabel='Sexo'\n",
    "ylabel='Renda_2021'"
   ],
   "metadata": {
    "collapsed": false,
    "pycharm": {
     "name": "#%%\n"
    }
   }
  },
  {
   "cell_type": "code",
   "execution_count": 31,
   "outputs": [
    {
     "data": {
      "text/plain": "<Figure size 403.8x288 with 1 Axes>",
      "image/png": "[encoded data removed]"
     },
     "metadata": {
      "needs_background": "light"
     },
     "output_type": "display_data"
    }
   ],
   "source": [
    "sns.catplot(x=\"Regiao\", y=\"Renda_2021\", hue = 'Sexo',\n",
    "                data=df, kind=\"box\",\n",
    "                height=4, aspect=1.1);"
   ],
   "metadata": {
    "collapsed": false,
    "pycharm": {
     "name": "#%%\n"
    }
   }
  },
  {
   "cell_type": "code",
   "execution_count": 32,
   "outputs": [
    {
     "data": {
      "text/plain": "<Figure size 403.8x288 with 1 Axes>",
      "image/png": "[encoded data removed]"
     },
     "metadata": {
      "needs_background": "light"
     },
     "output_type": "display_data"
    }
   ],
   "source": [
    "sns.catplot(x=\"Fumante\", y=\"Renda_2021\", hue = 'Sexo',\n",
    "                data=df, kind=\"box\",\n",
    "                height=4, aspect=1.1);"
   ],
   "metadata": {
    "collapsed": false,
    "pycharm": {
     "name": "#%%\n"
    }
   }
  },
  {
   "cell_type": "markdown",
   "source": [
    "-- Resumo:\n",
    "- Renda desigual entre homens e mulheres está relacionado com o fato de homens fumarem mais que mulheres.\n",
    "\n",
    "-- Questões:\n",
    "- Por que mulheres que não fumam ganham mais que os homens? Ou está dentro do erro esperado?"
   ],
   "metadata": {
    "collapsed": false
   }
  },
  {
   "cell_type": "markdown",
   "source": [
    "### 3.3.4 Renda vs Região"
   ],
   "metadata": {
    "collapsed": false
   }
  },
  {
   "cell_type": "code",
   "execution_count": 33,
   "outputs": [
    {
     "data": {
      "text/plain": "<Figure size 432x288 with 1 Axes>",
      "image/png": "[encoded data removed]"
     },
     "metadata": {
      "needs_background": "light"
     },
     "output_type": "display_data"
    }
   ],
   "source": [
    "sns.boxplot(x=\"Regiao\", y=\"Renda_2021\",\n",
    "                data=df)\n",
    "xlabel='Regiao'\n",
    "ylabel='Renda_2021'"
   ],
   "metadata": {
    "collapsed": false,
    "pycharm": {
     "name": "#%%\n"
    }
   }
  },
  {
   "cell_type": "markdown",
   "source": [
    "-- Resumo:\n",
    " - Assim como o número de fumantes é maior no Sudeste, temos uma renda maior nessa região."
   ],
   "metadata": {
    "collapsed": false
   }
  },
  {
   "cell_type": "code",
   "execution_count": 34,
   "outputs": [
    {
     "data": {
      "text/plain": "<Figure size 368.55x288 with 1 Axes>",
      "image/png": "[encoded data removed]"
     },
     "metadata": {
      "needs_background": "light"
     },
     "output_type": "display_data"
    }
   ],
   "source": [
    "sns.catplot(x=\"Regiao\", y=\"Renda_2021\", hue = 'Fumante',\n",
    "                data=df, kind=\"box\",\n",
    "                height=4, aspect=1.1);"
   ],
   "metadata": {
    "collapsed": false,
    "pycharm": {
     "name": "#%%\n"
    }
   }
  },
  {
   "cell_type": "markdown",
   "source": [
    "-- Resumo:\n",
    "- Aqui vemos explicitamente que a renda dos fumantes em todas as regiões é maior.\n",
    "\n",
    "-- Questões:\n",
    "- Por que temos mais fumantes no sudeste? Região mais fria? Região onde tem mais renda tem mais pessoas estressadas devido ao trabalho (overwork) e levando a mais pessoas fumantes?\n",
    "\n",
    "-- Propostas:\n",
    "- De modo a analisar o excesso de estresse, seria interessante checar dados sobre o alcoolismo. (Dependendo do propósito da pesquisa)"
   ],
   "metadata": {
    "collapsed": false
   }
  },
  {
   "cell_type": "markdown",
   "source": [],
   "metadata": {
    "collapsed": false
   }
  },
  {
   "cell_type": "markdown",
   "source": [
    "# 4. Modelagem (Classificação)\n",
    "\n",
    "Para fazermos a modelagem, precisamos que todos os objetos virem valores passíveis de serem tratados pelos métodos de classificação. Dessa forma, transformando valores de Região e Sexo em números inteiros, temos:"
   ],
   "metadata": {
    "collapsed": false,
    "pycharm": {
     "name": "#%% md\n"
    }
   }
  },
  {
   "cell_type": "code",
   "execution_count": 35,
   "outputs": [
    {
     "name": "stdout",
     "output_type": "stream",
     "text": [
      "[0 1]\n",
      "[3 2 1 0]\n"
     ]
    }
   ],
   "source": [
    "#Encoding categorical data values (Transforming object data types to integers)\n",
    "from sklearn.preprocessing import LabelEncoder\n",
    "labelencoder = LabelEncoder()\n",
    "\n",
    "#Encode sex column\n",
    "df.iloc[:,1]= labelencoder.fit_transform(df.iloc[:,1].values)\n",
    "#print(labelencoder.fit_transform(titanic.iloc[:,2].values))\n",
    "\n",
    "#Encode embarked\n",
    "df.iloc[:,4]= labelencoder.fit_transform(df.iloc[:,4].values)\n",
    "#print(labelencoder.fit_transform(titanic.iloc[:,7].values))\n",
    "\n",
    "#Print the NEW unique values in the columns\n",
    "print(df['Sexo'].unique())\n",
    "print(df['Regiao'].unique())"
   ],
   "metadata": {
    "collapsed": false,
    "pycharm": {
     "name": "#%%\n"
    }
   }
  },
  {
   "cell_type": "markdown",
   "source": [
    "Vamos separar nosso DataFrame em X e Y, com Y sendo nossa variável alvo."
   ],
   "metadata": {
    "collapsed": false,
    "pycharm": {
     "name": "#%% md\n"
    }
   }
  },
  {
   "cell_type": "code",
   "execution_count": 36,
   "outputs": [],
   "source": [
    "#Split the data into independent 'X' and dependent 'Y' variables\n",
    "X = df.iloc[:, :-1].values\n",
    "Y = df.iloc[:, -1].values"
   ],
   "metadata": {
    "collapsed": false,
    "pycharm": {
     "name": "#%%\n"
    }
   }
  },
  {
   "cell_type": "markdown",
   "source": [
    "Agora, podemos separar 80% dos nossos dados para treinamento e 20% para teste do modelo."
   ],
   "metadata": {
    "collapsed": false,
    "pycharm": {
     "name": "#%% md\n"
    }
   }
  },
  {
   "cell_type": "code",
   "execution_count": 37,
   "outputs": [],
   "source": [
    "#Split the dataset into 80% Training set and 20% Testing set\n",
    "from sklearn.model_selection import train_test_split\n",
    "X_train, X_test, Y_train, Y_test = train_test_split(X, Y, test_size = 0.25, random_state = 123, stratify=Y)"
   ],
   "metadata": {
    "collapsed": false,
    "pycharm": {
     "name": "#%%\n"
    }
   }
  },
  {
   "cell_type": "code",
   "execution_count": 38,
   "outputs": [],
   "source": [
    "#Feature Scaling\n",
    "from sklearn.preprocessing import StandardScaler\n",
    "sc = StandardScaler()\n",
    "X_train = sc.fit_transform(X_train)\n",
    "X_test = sc.transform(X_test)"
   ],
   "metadata": {
    "collapsed": false,
    "pycharm": {
     "name": "#%%\n"
    }
   }
  },
  {
   "cell_type": "markdown",
   "source": [
    "Correção do desbalanceamento dos dados para melhorar os resultados do modelo."
   ],
   "metadata": {
    "collapsed": false,
    "pycharm": {
     "name": "#%% md\n"
    }
   }
  },
  {
   "cell_type": "code",
   "execution_count": 39,
   "outputs": [
    {
     "data": {
      "text/plain": "0    0.5\n1    0.5\ndtype: float64"
     },
     "execution_count": 39,
     "metadata": {},
     "output_type": "execute_result"
    }
   ],
   "source": [
    "from imblearn.over_sampling import SMOTE\n",
    "\n",
    "# Run the prep_data function\n",
    "#X, y = prep_data(df)\n",
    "\n",
    "# Define the resampling method\n",
    "method = SMOTE()\n",
    "\n",
    "# Create the resampled feature set\n",
    "X_resampled, Y_resampled = method.fit_resample(X_train, Y_train)\n",
    "\n",
    "df_Y_resampled = pd.DataFrame(Y_resampled)\n",
    "df_Y_resampled_rate = df_Y_resampled.value_counts() / len(df_Y_resampled)\n",
    "df_Y_resampled_rate"
   ],
   "metadata": {
    "collapsed": false,
    "pycharm": {
     "name": "#%%\n"
    }
   }
  },
  {
   "cell_type": "markdown",
   "source": [
    "Função contendo os modelos de classificadores:"
   ],
   "metadata": {
    "collapsed": false,
    "pycharm": {
     "name": "#%% md\n"
    }
   }
  },
  {
   "cell_type": "code",
   "execution_count": 40,
   "outputs": [],
   "source": [
    "#Create a function within many Machine Learning Models\n",
    "def models(X_train,Y_train):\n",
    "\n",
    "  #Using Logistic Regression Algorithm to the Training Set\n",
    "  from sklearn.linear_model import LogisticRegression\n",
    "  log = LogisticRegression(random_state = 0)\n",
    "  log.fit(X_train, Y_train)\n",
    "\n",
    "  #Using KNeighborsClassifier Method of neighbors class to use Nearest Neighbor algorithm\n",
    "  from sklearn.neighbors import KNeighborsClassifier\n",
    "  knn = KNeighborsClassifier(n_neighbors = 3, metric = 'minkowski', p = 2)\n",
    "  knn.fit(X_train, Y_train)\n",
    "\n",
    "  #Using SVC method of svm class to use Support Vector Machine Algorithm\n",
    "  from sklearn.svm import SVC\n",
    "  svc_lin = SVC(C = 0.05, kernel = 'linear', random_state = 0)\n",
    "  svc_lin.fit(X_train, Y_train)\n",
    "\n",
    "  #Using SVC method of svm class to use Kernel SVM Algorithm\n",
    "  from sklearn.svm import SVC\n",
    "  svc_rbf = SVC(kernel = 'rbf', random_state = 0)\n",
    "  svc_rbf.fit(X_train, Y_train)\n",
    "\n",
    "  #Using GaussianNB method of naïve_bayes class to use Naïve Bayes Algorithm\n",
    "  from sklearn.naive_bayes import GaussianNB\n",
    "  gauss = GaussianNB()\n",
    "  gauss.fit(X_train, Y_train)\n",
    "\n",
    "  #Using DecisionTreeClassifier of tree class to use Decision Tree Algorithm\n",
    "  from sklearn.tree import DecisionTreeClassifier\n",
    "  tree = DecisionTreeClassifier(criterion = 'entropy', random_state = 0,max_depth=3)\n",
    "  tree.fit(X_train, Y_train)\n",
    "\n",
    "  #Using RandomForestClassifier method of ensemble class to use Random Forest Classification algorithm\n",
    "  from sklearn.ensemble import RandomForestClassifier\n",
    "  forest = RandomForestClassifier(n_estimators = 100, criterion = 'entropy', random_state = 0, max_depth=3)\n",
    "  forest.fit(X_train, Y_train)\n",
    "\n",
    "  #Using XGBClassifier\n",
    "  import xgboost\n",
    "  xgb = xgboost.XGBClassifier(n_estimators = 2,use_label_encoder = False,eval_metric = 'logloss')\n",
    "  xgb.fit(X_train, Y_train)\n",
    "\n",
    "  #print model accuracy on the training data.\n",
    "  print('[0]Logistic Regression Training Accuracy:', log.score(X_train, Y_train))\n",
    "  print('[1]K Nearest Neighbor Training Accuracy:', knn.score(X_train, Y_train))\n",
    "  print('[2]Support Vector Machine (Linear Classifier) Training Accuracy:', svc_lin.score(X_train, Y_train))\n",
    "  print('[3]Support Vector Machine (RBF Classifier) Training Accuracy:', svc_rbf.score(X_train, Y_train))\n",
    "  print('[4]Gaussian Naive Bayes Training Accuracy:', gauss.score(X_train, Y_train))\n",
    "  print('[5]Decision Tree Classifier Training Accuracy:', tree.score(X_train, Y_train))\n",
    "  print('[6]Random Forest Classifier Training Accuracy:', forest.score(X_train, Y_train))\n",
    "  print('[7]XGBoost Classifier Training Accuracy:', xgb.score(X_train, Y_train))\n",
    "\n",
    "  return log, knn, svc_lin, svc_rbf, gauss, tree, forest, xgb"
   ],
   "metadata": {
    "collapsed": false,
    "pycharm": {
     "name": "#%%\n"
    }
   }
  },
  {
   "cell_type": "markdown",
   "source": [
    "Treinando os modelos no X e Y balanceados:"
   ],
   "metadata": {
    "collapsed": false,
    "pycharm": {
     "name": "#%% md\n"
    }
   }
  },
  {
   "cell_type": "code",
   "execution_count": 41,
   "outputs": [
    {
     "name": "stdout",
     "output_type": "stream",
     "text": [
      "[0]Logistic Regression Training Accuracy: 0.9780701754385965\n",
      "[1]K Nearest Neighbor Training Accuracy: 0.9843358395989975\n",
      "[2]Support Vector Machine (Linear Classifier) Training Accuracy: 0.9655388471177945\n",
      "[3]Support Vector Machine (RBF Classifier) Training Accuracy: 0.9755639097744361\n",
      "[4]Gaussian Naive Bayes Training Accuracy: 0.9072681704260651\n",
      "[5]Decision Tree Classifier Training Accuracy: 0.9824561403508771\n",
      "[6]Random Forest Classifier Training Accuracy: 0.9555137844611529\n",
      "[7]XGBoost Classifier Training Accuracy: 0.9837092731829574\n"
     ]
    }
   ],
   "source": [
    "#Get and train all of the models\n",
    "model = models(X_resampled,Y_resampled)"
   ],
   "metadata": {
    "collapsed": false,
    "pycharm": {
     "name": "#%%\n"
    }
   }
  },
  {
   "cell_type": "code",
   "execution_count": 42,
   "outputs": [
    {
     "name": "stdout",
     "output_type": "stream",
     "text": [
      "[[253  13]\n",
      " [  0  69]]\n",
      "Model[0] Testing Accuracy = \"0.9611940298507463 !\"\n",
      "Model[0] Testing Precision = \"0.8414634146341463 !\"\n",
      "\n",
      "[[250  16]\n",
      " [  2  67]]\n",
      "Model[1] Testing Accuracy = \"0.9462686567164179 !\"\n",
      "Model[1] Testing Precision = \"0.8072289156626506 !\"\n",
      "\n",
      "[[247  19]\n",
      " [  0  69]]\n",
      "Model[2] Testing Accuracy = \"0.9432835820895522 !\"\n",
      "Model[2] Testing Precision = \"0.7840909090909091 !\"\n",
      "\n",
      "[[253  13]\n",
      " [  1  68]]\n",
      "Model[3] Testing Accuracy = \"0.9582089552238806 !\"\n",
      "Model[3] Testing Precision = \"0.8395061728395061 !\"\n",
      "\n",
      "[[247  19]\n",
      " [ 12  57]]\n",
      "Model[4] Testing Accuracy = \"0.9074626865671642 !\"\n",
      "Model[4] Testing Precision = \"0.75 !\"\n",
      "\n",
      "[[253  13]\n",
      " [  1  68]]\n",
      "Model[5] Testing Accuracy = \"0.9582089552238806 !\"\n",
      "Model[5] Testing Precision = \"0.8395061728395061 !\"\n",
      "\n",
      "[[241  25]\n",
      " [  4  65]]\n",
      "Model[6] Testing Accuracy = \"0.9134328358208955 !\"\n",
      "Model[6] Testing Precision = \"0.7222222222222222 !\"\n",
      "\n",
      "[[255  11]\n",
      " [  3  66]]\n",
      "Model[7] Testing Accuracy = \"0.9582089552238806 !\"\n",
      "Model[7] Testing Precision = \"0.8571428571428571 !\"\n",
      "\n"
     ]
    }
   ],
   "source": [
    "from sklearn.metrics import confusion_matrix\n",
    "for i in range(len(model)):\n",
    "   cm = confusion_matrix(Y_test, model[i].predict(X_test))\n",
    "   #extracting TN, FP, FN, TP\n",
    "   TN, FP, FN, TP = confusion_matrix(Y_test, model[i].predict(X_test)).ravel()\n",
    "   print(cm)\n",
    "   print('Model[{}] Testing Accuracy = \"{} !\"'.format(i,  (TP + TN) / (TP + TN + FN + FP)))\n",
    "   print('Model[{}] Testing Precision = \"{} !\"'.format(i,  (TP) / (TP + FP)))\n",
    "   print()# Print a new line"
   ],
   "metadata": {
    "collapsed": false,
    "pycharm": {
     "name": "#%%\n"
    }
   }
  },
  {
   "cell_type": "code",
   "execution_count": 43,
   "outputs": [],
   "source": [
    "# #('Idade', 'IMC', 'Renda_2021')\n",
    "# do_I_smoke2 = [[33,22.70, 22000]]\n",
    "# #Print Prediction of Random Forest Classifier model\n",
    "# pred = model[0].predict(do_I_smoke2)\n",
    "# print(pred)\n",
    "#\n",
    "# if pred == 1:\n",
    "#   print('You possibly are a smoker')\n",
    "# else:\n",
    "#   print('You possibly do not smoke')"
   ],
   "metadata": {
    "collapsed": false,
    "pycharm": {
     "name": "#%%\n"
    }
   }
  },
  {
   "cell_type": "markdown",
   "source": [
    "#### O melhor modelo é o de Regressão Logística, com acurácia de 96.41%, mas com a maior precisão 85.18%."
   ],
   "metadata": {
    "collapsed": false,
    "pycharm": {
     "name": "#%% md\n"
    }
   }
  },
  {
   "cell_type": "code",
   "execution_count": 44,
   "outputs": [
    {
     "data": {
      "text/plain": "            importance\nfeature               \nRenda_2021       5.266\nRegiao           0.178\nSexo             0.160\nFilhos          -0.324\nIdade           -1.488\nIMC             -2.362",
      "text/html": "<div>\n<style scoped>\n    .dataframe tbody tr th:only-of-type {\n        vertical-align: middle;\n    }\n\n    .dataframe tbody tr th {\n        vertical-align: top;\n    }\n\n    .dataframe thead th {\n        text-align: right;\n    }\n</style>\n<table border=\"1\" class=\"dataframe\">\n  <thead>\n    <tr style=\"text-align: right;\">\n      <th></th>\n      <th>importance</th>\n    </tr>\n    <tr>\n      <th>feature</th>\n      <th></th>\n    </tr>\n  </thead>\n  <tbody>\n    <tr>\n      <th>Renda_2021</th>\n      <td>5.266</td>\n    </tr>\n    <tr>\n      <th>Regiao</th>\n      <td>0.178</td>\n    </tr>\n    <tr>\n      <th>Sexo</th>\n      <td>0.160</td>\n    </tr>\n    <tr>\n      <th>Filhos</th>\n      <td>-0.324</td>\n    </tr>\n    <tr>\n      <th>Idade</th>\n      <td>-1.488</td>\n    </tr>\n    <tr>\n      <th>IMC</th>\n      <td>-2.362</td>\n    </tr>\n  </tbody>\n</table>\n</div>"
     },
     "execution_count": 44,
     "metadata": {},
     "output_type": "execute_result"
    }
   ],
   "source": [
    "from sklearn.datasets import make_classification\n",
    "from sklearn.linear_model import LogisticRegression\n",
    "from matplotlib import pyplot\n",
    "#Get the importance of the features\n",
    "logreg = model[0]\n",
    "importances = pd.DataFrame({'feature':df.iloc[:, :-1].columns,'importance':np.round(logreg.coef_[0],3)})\n",
    "importances = importances.sort_values('importance',ascending=False).set_index('feature')\n",
    "importances\n",
    "\n",
    "# # get importance\n",
    "# importance = logreg.coef_[0]\n",
    "# # summarize feature importance\n",
    "# for i,v in enumerate(importance):\n",
    "# \tprint('Feature: %0d, Score: %.5f' % (i,v))\n",
    "# # plot feature importance\n",
    "# pyplot.bar([x for x in range(len(importance))], importance)\n",
    "# pyplot.show()\n",
    "\n",
    "\n",
    "# logreg = model[0]\n",
    "# importances = pd.DataFrame({'feature':df.iloc[:, :-1].columns,'importance':np.round(tree.feature_importances_,3)})\n",
    "# importances = importances.sort_values('importance',ascending=False).set_index('feature')\n",
    "# importances"
   ],
   "metadata": {
    "collapsed": false,
    "pycharm": {
     "name": "#%%\n"
    }
   }
  },
  {
   "cell_type": "code",
   "execution_count": 45,
   "outputs": [
    {
     "data": {
      "text/plain": "<Figure size 432x288 with 1 Axes>",
      "image/png": "[encoded data removed]"
     },
     "metadata": {
      "needs_background": "light"
     },
     "output_type": "display_data"
    }
   ],
   "source": [
    "#Visualize the importance\n",
    "importances.plot.bar()\n",
    "xlabel='feature'"
   ],
   "metadata": {
    "collapsed": false,
    "pycharm": {
     "name": "#%%\n"
    }
   }
  },
  {
   "cell_type": "markdown",
   "source": [
    "#### Com a importância, podemos eliminar alguns parâmetros que não são tão importante para o nosso modelo, como sexo, região e filhos."
   ],
   "metadata": {
    "collapsed": false,
    "pycharm": {
     "name": "#%% md\n"
    }
   }
  },
  {
   "cell_type": "code",
   "execution_count": 46,
   "outputs": [
    {
     "name": "stdout",
     "output_type": "stream",
     "text": [
      "[0 1 0 0 0 0 0 0 0 0 0 0 0 0 0 1 0 0 0 1 0 0 0 0 0 0 0 0 0 1 0 0 0 0 1 0 0\n",
      " 1 0 0 0 1 1 0 0 0 0 0 1 0 1 1 0 0 0 1 0 0 0 0 0 0 0 0 1 1 0 1 1 0 1 0 1 0\n",
      " 0 0 0 0 1 0 0 1 0 0 0 0 0 0 0 1 0 1 1 1 0 1 0 0 0 0 1 1 0 1 0 1 1 0 0 1 0\n",
      " 0 0 0 0 0 1 0 0 0 0 1 0 1 0 1 1 1 0 0 0 0 0 0 0 0 0 1 1 0 0 1 0 1 0 0 0 0\n",
      " 0 0 0 0 1 0 0 0 0 0 0 0 0 0 0 0 0 0 1 0 0 1 1 1 1 0 0 1 0 0 0 0 0 0 0 1 0\n",
      " 0 1 0 0 1 0 0 0 0 0 0 0 0 1 1 0 1 0 0 0 1 1 0 0 0 0 0 0 0 0 0 0 0 0 0 1 0\n",
      " 0 0 0 0 0 0 0 0 0 0 0 0 0 0 0 0 0 0 0 0 0 0 1 0 0 0 0 0 0 1 0 1 0 0 0 0 0\n",
      " 0 1 0 0 1 0 0 0 0 1 0 0 0 0 1 0 0 0 1 0 0 0 0 0 0 0 0 0 0 1 0 1 1 0 0 1 1\n",
      " 0 1 1 1 0 0 0 1 0 0 1 0 0 0 0 0 0 0 1 0 1 1 1 0 0 0 0 0 1 0 0 0 1 0 0 0 0\n",
      " 0 1]\n",
      "\n",
      "[0 1 0 0 0 0 0 0 0 0 0 0 0 0 0 1 0 0 0 0 0 0 0 0 0 0 0 0 0 1 0 0 0 0 1 0 0\n",
      " 0 0 0 0 1 1 0 0 0 0 0 0 0 1 1 0 0 0 0 0 0 0 0 0 0 0 0 1 0 0 1 1 0 1 0 1 0\n",
      " 0 0 0 0 1 0 0 1 0 0 0 0 0 0 0 1 0 1 1 1 0 1 0 0 0 0 1 1 0 1 0 0 1 0 0 1 0\n",
      " 0 0 0 0 0 1 0 0 0 0 1 0 1 0 0 0 1 0 0 0 0 0 0 0 0 0 1 0 0 0 1 0 1 0 0 0 0\n",
      " 0 0 0 0 0 0 0 0 0 0 0 0 0 0 0 0 0 0 1 0 0 1 1 1 1 0 0 1 0 0 0 0 0 0 0 1 0\n",
      " 0 1 0 0 1 0 0 0 0 0 0 0 0 1 1 0 1 0 0 0 1 1 0 0 0 0 0 0 0 0 0 0 0 0 0 1 0\n",
      " 0 0 0 0 0 0 0 0 0 0 0 0 0 0 0 0 0 0 0 0 0 0 1 0 0 0 0 0 0 1 0 1 0 0 0 0 0\n",
      " 0 0 0 0 0 0 0 0 0 1 0 0 0 0 1 0 0 0 1 0 0 0 0 0 0 0 0 0 0 1 0 1 1 0 0 1 1\n",
      " 0 0 1 1 0 0 0 1 0 0 1 0 0 0 0 0 0 0 1 0 1 1 1 0 0 0 0 0 1 0 0 0 1 0 0 0 0\n",
      " 0 1]\n"
     ]
    }
   ],
   "source": [
    "#Print Prediction of Logistic Regression Classifier model\n",
    "pred = model[0].predict(X_test)\n",
    "print(pred)\n",
    "\n",
    "#Print a space\n",
    "print()\n",
    "\n",
    "#Print the actual values\n",
    "print(Y_test)"
   ],
   "metadata": {
    "collapsed": false,
    "pycharm": {
     "name": "#%%\n"
    }
   }
  },
  {
   "cell_type": "markdown",
   "source": [
    "# 5. Tunagem do modelo"
   ],
   "metadata": {
    "collapsed": false,
    "pycharm": {
     "name": "#%% md\n"
    }
   }
  },
  {
   "cell_type": "code",
   "execution_count": 47,
   "outputs": [
    {
     "name": "stdout",
     "output_type": "stream",
     "text": [
      ">1, train: 0.930, test: 0.916\n",
      ">2, train: 0.930, test: 0.916\n",
      ">3, train: 0.970, test: 0.955\n",
      ">4, train: 0.974, test: 0.955\n",
      ">5, train: 0.982, test: 0.946\n",
      ">6, train: 0.987, test: 0.952\n",
      ">7, train: 0.989, test: 0.949\n",
      ">8, train: 0.993, test: 0.943\n",
      ">9, train: 0.999, test: 0.961\n",
      ">10, train: 0.999, test: 0.952\n",
      ">11, train: 1.000, test: 0.952\n",
      ">12, train: 1.000, test: 0.952\n",
      ">13, train: 1.000, test: 0.946\n",
      ">14, train: 1.000, test: 0.952\n",
      ">15, train: 1.000, test: 0.949\n",
      ">16, train: 1.000, test: 0.952\n",
      ">17, train: 1.000, test: 0.952\n",
      ">18, train: 1.000, test: 0.943\n",
      ">19, train: 1.000, test: 0.955\n",
      ">20, train: 1.000, test: 0.949\n"
     ]
    },
    {
     "data": {
      "text/plain": "<Figure size 432x288 with 1 Axes>",
      "image/png": "[encoded data removed]"
     },
     "metadata": {
      "needs_background": "light"
     },
     "output_type": "display_data"
    }
   ],
   "source": [
    "#DecisionTree\n",
    "\n",
    "from sklearn.tree import DecisionTreeClassifier\n",
    "from sklearn.metrics import accuracy_score\n",
    "from matplotlib import pyplot\n",
    "# define lists to collect scores\n",
    "train_scores, test_scores = list(), list()\n",
    "# define the tree depths to evaluate\n",
    "values = [i for i in range(1, 21)]\n",
    "# evaluate a decision tree for each depth\n",
    "for i in values:\n",
    "\t# configure the model\n",
    "\tmodel = DecisionTreeClassifier(max_depth=i)\n",
    "\t# fit model on the training dataset\n",
    "\tmodel.fit(X_train, Y_train)\n",
    "\t# evaluate on the train dataset\n",
    "\ttrain_yhat = model.predict(X_train)\n",
    "\ttrain_acc = accuracy_score(Y_train, train_yhat)\n",
    "\ttrain_scores.append(train_acc)\n",
    "\t# evaluate on the test dataset\n",
    "\ttest_yhat = model.predict(X_test)\n",
    "\ttest_acc = accuracy_score(Y_test, test_yhat)\n",
    "\ttest_scores.append(test_acc)\n",
    "\t# summarize progress\n",
    "\tprint('>%d, train: %.3f, test: %.3f' % (i, train_acc, test_acc))\n",
    "# plot of train and test scores vs tree depth\n",
    "pyplot.plot(values, train_scores, '-o', label='Train')\n",
    "pyplot.plot(values, test_scores, '-o', label='Test')\n",
    "pyplot.legend()\n",
    "pyplot.show()"
   ],
   "metadata": {
    "collapsed": false,
    "pycharm": {
     "name": "#%%\n"
    }
   }
  },
  {
   "cell_type": "code",
   "execution_count": 48,
   "outputs": [
    {
     "name": "stdout",
     "output_type": "stream",
     "text": [
      ">1, train: 1.000, test: 0.937\n",
      ">2, train: 0.978, test: 0.916\n",
      ">3, train: 0.976, test: 0.928\n",
      ">4, train: 0.967, test: 0.916\n",
      ">5, train: 0.964, test: 0.931\n",
      ">6, train: 0.956, test: 0.916\n",
      ">7, train: 0.958, test: 0.910\n",
      ">8, train: 0.950, test: 0.913\n",
      ">9, train: 0.951, test: 0.916\n",
      ">10, train: 0.945, test: 0.907\n",
      ">11, train: 0.948, test: 0.904\n",
      ">12, train: 0.942, test: 0.899\n",
      ">13, train: 0.942, test: 0.904\n",
      ">14, train: 0.938, test: 0.899\n",
      ">15, train: 0.940, test: 0.901\n",
      ">16, train: 0.924, test: 0.893\n",
      ">17, train: 0.926, test: 0.896\n",
      ">18, train: 0.920, test: 0.893\n",
      ">19, train: 0.923, test: 0.890\n",
      ">20, train: 0.915, test: 0.893\n",
      ">21, train: 0.915, test: 0.890\n",
      ">22, train: 0.914, test: 0.878\n",
      ">23, train: 0.914, test: 0.875\n",
      ">24, train: 0.912, test: 0.875\n",
      ">25, train: 0.913, test: 0.878\n",
      ">26, train: 0.910, test: 0.881\n",
      ">27, train: 0.910, test: 0.878\n",
      ">28, train: 0.905, test: 0.881\n",
      ">29, train: 0.906, test: 0.884\n",
      ">30, train: 0.905, test: 0.881\n",
      ">31, train: 0.906, test: 0.878\n",
      ">32, train: 0.906, test: 0.884\n",
      ">33, train: 0.906, test: 0.878\n",
      ">34, train: 0.904, test: 0.884\n",
      ">35, train: 0.904, test: 0.881\n",
      ">36, train: 0.905, test: 0.878\n",
      ">37, train: 0.905, test: 0.878\n",
      ">38, train: 0.906, test: 0.881\n",
      ">39, train: 0.906, test: 0.881\n",
      ">40, train: 0.906, test: 0.884\n",
      ">41, train: 0.906, test: 0.884\n",
      ">42, train: 0.907, test: 0.890\n",
      ">43, train: 0.907, test: 0.887\n",
      ">44, train: 0.907, test: 0.890\n",
      ">45, train: 0.906, test: 0.887\n",
      ">46, train: 0.907, test: 0.893\n",
      ">47, train: 0.906, test: 0.890\n",
      ">48, train: 0.906, test: 0.890\n",
      ">49, train: 0.906, test: 0.887\n",
      ">50, train: 0.908, test: 0.890\n"
     ]
    },
    {
     "data": {
      "text/plain": "<Figure size 432x288 with 1 Axes>",
      "image/png": "[encoded data removed]"
     },
     "metadata": {
      "needs_background": "light"
     },
     "output_type": "display_data"
    }
   ],
   "source": [
    "# evaluate knn performance on train and test sets with different numbers of neighbors\n",
    "from sklearn.datasets import make_classification\n",
    "from sklearn.model_selection import train_test_split\n",
    "from sklearn.metrics import accuracy_score\n",
    "from sklearn.neighbors import KNeighborsClassifier\n",
    "from matplotlib import pyplot\n",
    "# create dataset\n",
    "#X, y = make_classification(n_samples=10000, n_features=20, n_informative=5, n_redundant=15, random_state=1)\n",
    "# split into train test sets\n",
    "#X_train, X_test, y_train, y_test = train_test_split(X, y, test_size=0.3)\n",
    "# define lists to collect scores\n",
    "train_scores, test_scores = list(), list()\n",
    "# define the tree depths to evaluate\n",
    "values = [i for i in range(1, 51)]\n",
    "# evaluate a decision tree for each depth\n",
    "for i in values:\n",
    "\t# configure the model\n",
    "\tmodel = KNeighborsClassifier(n_neighbors=i)\n",
    "\t# fit model on the training dataset\n",
    "\tmodel.fit(X_train, Y_train)\n",
    "\t# evaluate on the train dataset\n",
    "\ttrain_yhat = model.predict(X_train)\n",
    "\ttrain_acc = accuracy_score(Y_train, train_yhat)\n",
    "\ttrain_scores.append(train_acc)\n",
    "\t# evaluate on the test dataset\n",
    "\ttest_yhat = model.predict(X_test)\n",
    "\ttest_acc = accuracy_score(Y_test, test_yhat)\n",
    "\ttest_scores.append(test_acc)\n",
    "\t# summarize progress\n",
    "\tprint('>%d, train: %.3f, test: %.3f' % (i, train_acc, test_acc))\n",
    "# plot of train and test scores vs number of neighbors\n",
    "pyplot.plot(values, train_scores, '-o', label='Train')\n",
    "pyplot.plot(values, test_scores, '-o', label='Test')\n",
    "pyplot.legend()\n",
    "pyplot.show()"
   ],
   "metadata": {
    "collapsed": false,
    "pycharm": {
     "name": "#%%\n"
    }
   }
  },
  {
   "cell_type": "code",
   "execution_count": 49,
   "outputs": [
    {
     "name": "stdout",
     "output_type": "stream",
     "text": [
      ">1, train: 0.976, test: 0.946\n",
      ">2, train: 0.979, test: 0.955\n",
      ">3, train: 0.979, test: 0.955\n",
      ">4, train: 0.987, test: 0.958\n",
      ">5, train: 0.989, test: 0.961\n",
      ">6, train: 0.988, test: 0.961\n",
      ">7, train: 0.989, test: 0.961\n",
      ">8, train: 0.990, test: 0.961\n",
      ">9, train: 0.990, test: 0.961\n",
      ">10, train: 0.990, test: 0.961\n",
      ">11, train: 0.994, test: 0.964\n",
      ">12, train: 0.994, test: 0.961\n",
      ">13, train: 0.994, test: 0.949\n",
      ">14, train: 0.995, test: 0.955\n",
      ">15, train: 0.995, test: 0.955\n",
      ">16, train: 0.995, test: 0.949\n",
      ">17, train: 0.996, test: 0.952\n",
      ">18, train: 0.997, test: 0.958\n",
      ">19, train: 0.996, test: 0.958\n"
     ]
    },
    {
     "data": {
      "text/plain": "<Figure size 432x288 with 1 Axes>",
      "image/png": "[encoded data removed]"
     },
     "metadata": {
      "needs_background": "light"
     },
     "output_type": "display_data"
    }
   ],
   "source": [
    "#XGBCLassifier\n",
    "\n",
    "# from sklearn.tree import DecisionTreeClassifier\n",
    "# from sklearn.metrics import accuracy_score\n",
    "import xgboost\n",
    "from matplotlib import pyplot\n",
    "# define lists to collect scores\n",
    "train_scores, test_scores = list(), list()\n",
    "# define the tree depths to evaluate\n",
    "values = [i for i in range(1, 20)]\n",
    "# evaluate a decision tree for each depth\n",
    "for i in values:\n",
    "\t# configure the model\n",
    "\tmodel = xgboost.XGBClassifier(n_estimators =i,use_label_encoder = False, eval_metric = 'logloss')\n",
    "\t# fit model on the training dataset\n",
    "\tmodel.fit(X_train, Y_train)\n",
    "\t# evaluate on the train dataset\n",
    "\ttrain_yhat = model.predict(X_train)\n",
    "\ttrain_acc = accuracy_score(Y_train, train_yhat)\n",
    "\ttrain_scores.append(train_acc)\n",
    "\t# evaluate on the test dataset\n",
    "\ttest_yhat = model.predict(X_test)\n",
    "\ttest_acc = accuracy_score(Y_test, test_yhat)\n",
    "\ttest_scores.append(test_acc)\n",
    "\t# summarize progress\n",
    "\tprint('>%d, train: %.3f, test: %.3f' % (i, train_acc, test_acc))\n",
    "# plot of train and test scores vs tree depth\n",
    "pyplot.plot(values, train_scores, '-o', label='Train')\n",
    "pyplot.plot(values, test_scores, '-o', label='Test')\n",
    "pyplot.legend()\n",
    "pyplot.show()"
   ],
   "metadata": {
    "collapsed": false,
    "pycharm": {
     "name": "#%%\n"
    }
   }
  },
  {
   "cell_type": "code",
   "execution_count": 50,
   "outputs": [
    {
     "name": "stdout",
     "output_type": "stream",
     "text": [
      ">1, train: 0.895, test: 0.872\n",
      ">2, train: 0.901, test: 0.875\n",
      ">3, train: 0.904, test: 0.878\n",
      ">4, train: 0.919, test: 0.899\n",
      ">5, train: 0.955, test: 0.940\n",
      ">6, train: 0.962, test: 0.952\n",
      ">7, train: 0.965, test: 0.964\n",
      ">8, train: 0.968, test: 0.964\n",
      ">9, train: 0.968, test: 0.964\n",
      ">10, train: 0.968, test: 0.964\n",
      ">11, train: 0.967, test: 0.964\n",
      ">12, train: 0.967, test: 0.964\n",
      ">13, train: 0.967, test: 0.964\n",
      ">14, train: 0.967, test: 0.964\n",
      ">15, train: 0.967, test: 0.964\n",
      ">16, train: 0.967, test: 0.964\n",
      ">17, train: 0.967, test: 0.964\n",
      ">18, train: 0.967, test: 0.964\n",
      ">19, train: 0.967, test: 0.964\n"
     ]
    },
    {
     "data": {
      "text/plain": "<Figure size 432x288 with 1 Axes>",
      "image/png": "[encoded data removed]"
     },
     "metadata": {
      "needs_background": "light"
     },
     "output_type": "display_data"
    }
   ],
   "source": [
    "#SVM linear\n",
    "\n",
    "# from sklearn.tree import DecisionTreeClassifier\n",
    "# from sklearn.metrics import accuracy_score\n",
    "from sklearn.svm import SVC\n",
    "from matplotlib import pyplot\n",
    "# define lists to collect scores\n",
    "train_scores, test_scores = list(), list()\n",
    "# define the tree depths to evaluate\n",
    "values = [i for i in range(1, 20)]\n",
    "values_np = np.array(values)/100.0\n",
    "#evaluate a decision tree for each depth\n",
    "for i in values:\n",
    "\t# configure the model\n",
    "\tmodel = SVC(C = i/100.0, kernel = 'linear', random_state = 0)\n",
    "\t# fit model on the training dataset\n",
    "\tmodel.fit(X_train, Y_train)\n",
    "\t# evaluate on the train dataset\n",
    "\ttrain_yhat = model.predict(X_train)\n",
    "\ttrain_acc = accuracy_score(Y_train, train_yhat)\n",
    "\ttrain_scores.append(train_acc)\n",
    "\t# evaluate on the test dataset\n",
    "\ttest_yhat = model.predict(X_test)\n",
    "\ttest_acc = accuracy_score(Y_test, test_yhat)\n",
    "\ttest_scores.append(test_acc)\n",
    "\t# summarize progress\n",
    "\tprint('>%d, train: %.3f, test: %.3f' % (i, train_acc, test_acc))\n",
    "# plot of train and test scores vs tree depth\n",
    "pyplot.plot(values_np, train_scores, '-o', label='Train')\n",
    "pyplot.plot(values_np, test_scores, '-o', label='Test')\n",
    "pyplot.legend()\n",
    "pyplot.show()\n"
   ],
   "metadata": {
    "collapsed": false,
    "pycharm": {
     "name": "#%%\n"
    }
   }
  },
  {
   "cell_type": "markdown",
   "source": [
    "## 5.1 Remoção de Parâmetros não importantes"
   ],
   "metadata": {
    "collapsed": false,
    "pycharm": {
     "name": "#%% md\n"
    }
   }
  },
  {
   "cell_type": "code",
   "execution_count": 51,
   "outputs": [
    {
     "data": {
      "text/plain": "   Idade     IMC   Renda_2021  Fumante\n0     19  27.900  16884.92400        1\n1     18  33.770   1725.55230        0\n2     28  33.000   4449.46200        0\n3     33  22.705  21984.47061        0\n4     32  28.880   3866.85520        0",
      "text/html": "<div>\n<style scoped>\n    .dataframe tbody tr th:only-of-type {\n        vertical-align: middle;\n    }\n\n    .dataframe tbody tr th {\n        vertical-align: top;\n    }\n\n    .dataframe thead th {\n        text-align: right;\n    }\n</style>\n<table border=\"1\" class=\"dataframe\">\n  <thead>\n    <tr style=\"text-align: right;\">\n      <th></th>\n      <th>Idade</th>\n      <th>IMC</th>\n      <th>Renda_2021</th>\n      <th>Fumante</th>\n    </tr>\n  </thead>\n  <tbody>\n    <tr>\n      <th>0</th>\n      <td>19</td>\n      <td>27.900</td>\n      <td>16884.92400</td>\n      <td>1</td>\n    </tr>\n    <tr>\n      <th>1</th>\n      <td>18</td>\n      <td>33.770</td>\n      <td>1725.55230</td>\n      <td>0</td>\n    </tr>\n    <tr>\n      <th>2</th>\n      <td>28</td>\n      <td>33.000</td>\n      <td>4449.46200</td>\n      <td>0</td>\n    </tr>\n    <tr>\n      <th>3</th>\n      <td>33</td>\n      <td>22.705</td>\n      <td>21984.47061</td>\n      <td>0</td>\n    </tr>\n    <tr>\n      <th>4</th>\n      <td>32</td>\n      <td>28.880</td>\n      <td>3866.85520</td>\n      <td>0</td>\n    </tr>\n  </tbody>\n</table>\n</div>"
     },
     "execution_count": 51,
     "metadata": {},
     "output_type": "execute_result"
    }
   ],
   "source": [
    "df2 = df.copy()\n",
    "df2.drop('Regiao', axis=1, inplace=True)\n",
    "df2.drop('Filhos', axis=1, inplace=True)\n",
    "df2.drop('Sexo', axis=1, inplace=True)\n",
    "df2.head()"
   ],
   "metadata": {
    "collapsed": false,
    "pycharm": {
     "name": "#%%\n"
    }
   }
  },
  {
   "cell_type": "code",
   "execution_count": 52,
   "outputs": [],
   "source": [
    "#Split the data into independent 'X' and dependent 'Y' variables\n",
    "X2 = df2.iloc[:, :-1].values\n",
    "Y2 = df2.iloc[:, -1].values"
   ],
   "metadata": {
    "collapsed": false,
    "pycharm": {
     "name": "#%%\n"
    }
   }
  },
  {
   "cell_type": "code",
   "execution_count": 53,
   "outputs": [],
   "source": [
    "#Split the dataset into 80% Training set and 20% Testing set\n",
    "from sklearn.model_selection import train_test_split\n",
    "X2_train, X2_test, Y2_train, Y2_test = train_test_split(X2, Y2, test_size = 0.25, random_state = 123, stratify=Y2)"
   ],
   "metadata": {
    "collapsed": false,
    "pycharm": {
     "name": "#%%\n"
    }
   }
  },
  {
   "cell_type": "code",
   "execution_count": 54,
   "outputs": [],
   "source": [
    "#Feature Scaling\n",
    "from sklearn.preprocessing import StandardScaler\n",
    "sc2 = StandardScaler()\n",
    "X2_train = sc2.fit_transform(X2_train)\n",
    "X2_test = sc2.transform(X2_test)"
   ],
   "metadata": {
    "collapsed": false,
    "pycharm": {
     "name": "#%%\n"
    }
   }
  },
  {
   "cell_type": "code",
   "execution_count": 55,
   "outputs": [
    {
     "data": {
      "text/plain": "0    0.5\n1    0.5\ndtype: float64"
     },
     "execution_count": 55,
     "metadata": {},
     "output_type": "execute_result"
    }
   ],
   "source": [
    "from imblearn.over_sampling import SMOTE\n",
    "\n",
    "# Run the prep_data function\n",
    "#X, y = prep_data(df)\n",
    "\n",
    "# Define the resampling method\n",
    "method = SMOTE()\n",
    "\n",
    "# Create the resampled feature set\n",
    "X2_resampled, Y2_resampled = method.fit_resample(X2_train, Y2_train)\n",
    "\n",
    "df_Y2_resampled = pd.DataFrame(Y2_resampled)\n",
    "df_Y2_resampled_rate = df_Y2_resampled.value_counts() / len(df_Y2_resampled)\n",
    "df_Y2_resampled_rate"
   ],
   "metadata": {
    "collapsed": false,
    "pycharm": {
     "name": "#%%\n"
    }
   }
  },
  {
   "cell_type": "code",
   "execution_count": 56,
   "outputs": [
    {
     "name": "stdout",
     "output_type": "stream",
     "text": [
      "[0]Logistic Regression Training Accuracy: 0.9774436090225563\n",
      "[1]K Nearest Neighbor Training Accuracy: 0.9868421052631579\n",
      "[2]Support Vector Machine (Linear Classifier) Training Accuracy: 0.9649122807017544\n",
      "[3]Support Vector Machine (RBF Classifier) Training Accuracy: 0.9736842105263158\n",
      "[4]Gaussian Naive Bayes Training Accuracy: 0.8972431077694235\n",
      "[5]Decision Tree Classifier Training Accuracy: 0.9824561403508771\n",
      "[6]Random Forest Classifier Training Accuracy: 0.9592731829573935\n",
      "[7]XGBoost Classifier Training Accuracy: 0.9837092731829574\n"
     ]
    }
   ],
   "source": [
    "#Get and train all of the models\n",
    "model2 = models(X2_resampled,Y2_resampled)"
   ],
   "metadata": {
    "collapsed": false,
    "pycharm": {
     "name": "#%%\n"
    }
   }
  },
  {
   "cell_type": "code",
   "execution_count": 57,
   "outputs": [
    {
     "name": "stdout",
     "output_type": "stream",
     "text": [
      "[[253  13]\n",
      " [  0  69]]\n",
      "Model[0] Testing Accuracy = \"0.9611940298507463 !\"\n",
      "Model[0] Testing Precision = \"0.8414634146341463 !\"\n",
      "\n",
      "[[255  11]\n",
      " [  2  67]]\n",
      "Model[1] Testing Accuracy = \"0.9611940298507463 !\"\n",
      "Model[1] Testing Precision = \"0.8589743589743589 !\"\n",
      "\n",
      "You chose this model\n",
      "\n",
      "[[247  19]\n",
      " [  0  69]]\n",
      "Model[2] Testing Accuracy = \"0.9432835820895522 !\"\n",
      "Model[2] Testing Precision = \"0.7840909090909091 !\"\n",
      "\n",
      "[[253  13]\n",
      " [  0  69]]\n",
      "Model[3] Testing Accuracy = \"0.9611940298507463 !\"\n",
      "Model[3] Testing Precision = \"0.8414634146341463 !\"\n",
      "\n",
      "[[247  19]\n",
      " [  7  62]]\n",
      "Model[4] Testing Accuracy = \"0.9223880597014925 !\"\n",
      "Model[4] Testing Precision = \"0.7654320987654321 !\"\n",
      "\n",
      "[[253  13]\n",
      " [  1  68]]\n",
      "Model[5] Testing Accuracy = \"0.9582089552238806 !\"\n",
      "Model[5] Testing Precision = \"0.8395061728395061 !\"\n",
      "\n",
      "[[241  25]\n",
      " [  0  69]]\n",
      "Model[6] Testing Accuracy = \"0.9253731343283582 !\"\n",
      "Model[6] Testing Precision = \"0.7340425531914894 !\"\n",
      "\n",
      "[[255  11]\n",
      " [  3  66]]\n",
      "Model[7] Testing Accuracy = \"0.9582089552238806 !\"\n",
      "Model[7] Testing Precision = \"0.8571428571428571 !\"\n",
      "\n"
     ]
    }
   ],
   "source": [
    "from sklearn.metrics import confusion_matrix\n",
    "bestModelNumber = 1 #Used to export confusion matrix data\n",
    "for i in range(len(model2)):\n",
    "   cm2 = confusion_matrix(Y2_test, model2[i].predict(X2_test))\n",
    "   #extracting TN, FP, FN, TP\n",
    "   TN2, FP2, FN2, TP2 = confusion_matrix(Y2_test, model2[i].predict(X2_test)).ravel()\n",
    "   print(cm2)\n",
    "   print('Model[{}] Testing Accuracy = \"{} !\"'.format(i,  (TP2 + TN2) / (TP2 + TN2 + FN2 + FP2)))\n",
    "   print('Model[{}] Testing Precision = \"{} !\"'.format(i,  (TP2) / (TP2 + FP2)))\n",
    "   print()# Print a new line\n",
    "   if i == bestModelNumber:\n",
    "        # confusionMatrixData = [TN2, FP2, FN2, TP2]\n",
    "        # confusionMatrixLabels = ['TN','FP','FN','TP']\n",
    "        truePositiveRate = TP2/(TP2+FN2)\n",
    "        trueNegativeRate = TN2/(TN2+FP2)\n",
    "        print('You chose this model')\n",
    "        # print('Collecting confusion matrix data from the best model: confusionMatrixData = ' , confusionMatrixData)\n",
    "        # print('Collecting confusion matrix labels from the best model: confusionMatrixLabel = ' , confusionMatrixData)\n",
    "        print()\n",
    "   else:\n",
    "       continue"
   ],
   "metadata": {
    "collapsed": false,
    "pycharm": {
     "name": "#%%\n"
    }
   }
  },
  {
   "cell_type": "markdown",
   "source": [
    "#### O melhor modelo agora é o KNN, com 96.11% de acurácia e 85% de precisão."
   ],
   "metadata": {
    "collapsed": false,
    "pycharm": {
     "name": "#%% md\n"
    }
   }
  },
  {
   "cell_type": "markdown",
   "source": [
    "# De acordo com o modelo, eu sou um fumante?"
   ],
   "metadata": {
    "collapsed": false
   }
  },
  {
   "cell_type": "code",
   "execution_count": 58,
   "outputs": [
    {
     "name": "stdout",
     "output_type": "stream",
     "text": [
      "[1]\n",
      "You possibly are a smoker\n"
     ]
    }
   ],
   "source": [
    "#('Idade', 'IMC', 'Renda_2021')\n",
    "do_I_smoke = [[24,26,33000]]\n",
    "#Print Prediction of Random Forest Classifier model\n",
    "pred2 = model2[1].predict(sc2.transform(do_I_smoke))\n",
    "print(pred2)\n",
    "\n",
    "if pred2 == 1:\n",
    "  print('You possibly are a smoker')\n",
    "else:\n",
    "  print('You possibly do not smoke')\n"
   ],
   "metadata": {
    "collapsed": false,
    "pycharm": {
     "name": "#%%\n"
    }
   }
  },
  {
   "cell_type": "markdown",
   "source": [
    "# 6. Conclusões\n",
    "\n",
    "Sobre as hipóteses:\n",
    "\n",
    "1) Pessoas que ganham mais dinheiro, tem mais chances de serem fumantes?\n",
    "    Confirmado, as pessoas com uma renda maior tem mais chances de manter o vício do tabajismo, possivelmente pelo alto preço do maço de cigarro hoje em dia. Isso reforça que as políticas de aumento do preço do cigarro causaram o decaimento de fumantes (Fonte: http://direito.folha.uol.com.br/blog/tabagismo-o-consumo-caiu-por-causa-do-preo-maior-ou-junto-com-o-aumento-do-preo)\n",
    "2) Pessoas que moram em regiões mais caras têm maior probabilidade de serem fumantes.\n",
    "    Confirmado, mas seria interessante obter dados de regiões mais desiguais para comparar melhor.\n",
    "3) Pessoas fumantes tendem a ter um IMC maior.\n",
    "    Refutado, pelos dados, não podemos relacionar IMC com tabajismo.\n",
    "4) Fumantes independem do sexo.\n",
    "    Confirmado, o sexo da pessoa não é relevante na determinação do vício, porém, devido a homens terem uma renda maior que mulheres, há mais homens fumantes que mulheres.\n",
    "5) Fumantes vivem menos.\n",
    "    Confirmado!! Pessoas viciadas em cigarro tendem a viver cerca de 2 anos menos, em média.\n",
    "\n",
    "Questões:\n",
    "\n",
    "1) Por que mulheres que não fumam ganham mais que os homens? Ou está dentro do erro esperado?\n",
    "2) Por que temos mais fumantes no sudeste? Região mais fria? Região onde tem mais renda tem mais pessoas estressadas devido ao trabalho (overwork) e levando a mais pessoas fumantes?\n",
    "3) O que leva jovens a fumarem mais?\n",
    "4) O que causa pessoas com 1 a 2 filhos terem maiores chances de serem fumantes?\n",
    "\n",
    "Modelo:\n",
    " - O melhor modelo é o de Regressão Logística, com acurácia de 96.41%, mas com a maior precisão 85.18%. (Antes de remover Sexo, Região e Filhos).\n",
    " - Depois da remoção o melhor é o KNN, com 96.11% de acurácia e 85% de precisão.\n",
    "\n",
    "Conclusão sobre o modelo:\n",
    "- A filtragem de variáveis melhorou o desempenho do modelo KNN de 95% de acurácia para 96% e a precisão de 81% para 85%. Portanto, a remoção de parâmetros não importante melhorou consideravelmente o desempenho do KNN (o que faz sentido com a teoria do KNN), facilitando o treinamento e como consequência o fitting.\n",
    "\n"
   ],
   "metadata": {
    "collapsed": false,
    "pycharm": {
     "name": "#%% md\n"
    }
   }
  },
  {
   "cell_type": "markdown",
   "source": [
    "# 7. Deploy do modelo KNN"
   ],
   "metadata": {
    "collapsed": false
   }
  },
  {
   "cell_type": "code",
   "execution_count": 59,
   "outputs": [],
   "source": [
    "import joblib\n",
    "import csv\n",
    "finalModel = 'finalized_model.joblib'\n",
    "joblib.dump(model2[1], finalModel)\n",
    "\n",
    "# save numpy array as csv file\n",
    "from numpy import asarray\n",
    "from numpy import savetxt\n",
    "# define data\n",
    "# data = asarray([[0, 1, 2, 3, 4, 5, 6, 7, 8, 9]])\n",
    "\n",
    "datamodel = asarray([trueNegativeRate,truePositiveRate])\n",
    "# save to csv file\n",
    "savetxt('probabilitiesModel.csv', [datamodel], delimiter=',',fmt='%s')\n",
    "# load numpy array from csv file\n",
    "from numpy import loadtxt\n",
    "# load array\n",
    "rateData = np.loadtxt('probabilitiesModel.csv', delimiter=',')\n",
    "trueNegative = rateData[0]\n",
    "truePositive = rateData[1]"
   ],
   "metadata": {
    "collapsed": false,
    "pycharm": {
     "name": "#%%\n"
    }
   }
  },
  {
   "cell_type": "code",
   "execution_count": 60,
   "outputs": [],
   "source": [
    "# importing sweetviz\n",
    "# import sweetviz as sv\n",
    "# #analyzing the dataset\n",
    "# advert_report = sv.analyze(df, \"Fumante\")\n",
    "# #display the report\n",
    "# advert_report.show_html('Advertising.html')"
   ],
   "metadata": {
    "collapsed": false,
    "pycharm": {
     "name": "#%%\n"
    }
   }
  },
  {
   "cell_type": "code",
   "execution_count": 61,
   "outputs": [],
   "source": [
    "# #carregando o modelo treinado.\n",
    "# mp = joblib.load(\"finalized_model.joblib\")\n",
    "# # model_cluster = joblib.load(var_model_cluster)\n",
    "# print(mp.predict(do_I_smoke))\n",
    "# if mp.predict(do_I_smoke) == 1:\n",
    "#   print('You possibly are a smoker')\n",
    "# else:\n",
    "#   print('You possibly do not smoke')"
   ],
   "metadata": {
    "collapsed": false,
    "pycharm": {
     "name": "#%%\n"
    }
   }
  },
  {
   "cell_type": "code",
   "execution_count": 62,
   "outputs": [],
   "source": [
    "import pickle\n",
    "pickle.dump(sc2, open('scaler.pkl','wb'))\n",
    "\n",
    "# sc = pickle.load(open('scaler.pkl','rb'))"
   ],
   "metadata": {
    "collapsed": false,
    "pycharm": {
     "name": "#%%\n"
    }
   }
  },
  {
   "cell_type": "code",
   "execution_count": 62,
   "outputs": [],
   "source": [],
   "metadata": {
    "collapsed": false,
    "pycharm": {
     "name": "#%%\n"
    }
   }
  }
 ],
 "metadata": {
  "kernelspec": {
   "display_name": "Python 3",
   "language": "python",
   "name": "python3"
  },
  "language_info": {
   "codemirror_mode": {
    "name": "ipython",
    "version": 2
   },
   "file_extension": ".py",
   "mimetype": "text/x-python",
   "name": "python",
   "nbconvert_exporter": "python",
   "pygments_lexer": "ipython2",
   "version": "2.7.6"
  }
 },
 "nbformat": 4,
 "nbformat_minor": 0
}